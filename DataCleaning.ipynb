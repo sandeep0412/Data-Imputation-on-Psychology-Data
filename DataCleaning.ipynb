{
  "nbformat": 4,
  "nbformat_minor": 0,
  "metadata": {
    "colab": {
      "name": "DataCleaning.ipynb",
      "version": "0.3.2",
      "provenance": []
    },
    "kernelspec": {
      "name": "python3",
      "display_name": "Python 3"
    }
  },
  "cells": [
    {
      "cell_type": "markdown",
      "metadata": {
        "id": "DoFSd2o8eyhs",
        "colab_type": "text"
      },
      "source": [
        "# Data Loading"
      ]
    },
    {
      "cell_type": "code",
      "metadata": {
        "id": "82M2JJBAQY9m",
        "colab_type": "code",
        "outputId": "4fd9c6fa-e109-420f-f8e8-da2e9b40c67a",
        "colab": {
          "base_uri": "https://localhost:8080/",
          "height": 34
        }
      },
      "source": [
        "# Load the Drive helper and mount\n",
        "from google.colab import drive\n",
        "# This will prompt for authorization.\n",
        "drive.mount('/content/drive')\n",
        "\n",
        "import pandas as pd\n",
        "import numpy as np\n",
        "import collections\n",
        "\n",
        "import seaborn as sns\n",
        "import matplotlib\n",
        "import matplotlib.pyplot as plt\n",
        "import matplotlib.cm as cmx\n",
        "import matplotlib.colors as colors\n",
        "%matplotlib inline\n",
        "import scipy.stats as stats\n",
        "import sklearn"
      ],
      "execution_count": 0,
      "outputs": [
        {
          "output_type": "stream",
          "text": [
            "Drive already mounted at /content/drive; to attempt to forcibly remount, call drive.mount(\"/content/drive\", force_remount=True).\n"
          ],
          "name": "stdout"
        }
      ]
    },
    {
      "cell_type": "code",
      "metadata": {
        "id": "sEsicCA5N_ku",
        "colab_type": "code",
        "outputId": "3f5d2650-8c77-42c9-c3ad-abab1bb08b71",
        "colab": {
          "base_uri": "https://localhost:8080/",
          "height": 85
        }
      },
      "source": [
        "!ls \"/content/drive/My Drive/CS536/\""
      ],
      "execution_count": 0,
      "outputs": [
        {
          "output_type": "stream",
          "text": [
            " CleanedDataset.sav   datac.csv\n",
            " csvfiles\t      ML3AllSites.csv\n",
            " datac1.gsheet\t     'ML3 Final Data'\n",
            " datac1.xlsx\t      Tab.delimited.Cleaned.dataset.WITH.variable.labels.csv\n"
          ],
          "name": "stdout"
        }
      ]
    },
    {
      "cell_type": "code",
      "metadata": {
        "id": "XCRi74cVtIrl",
        "colab_type": "code",
        "outputId": "13c2142b-18b4-412a-c4ae-f8a5e22e4296",
        "colab": {
          "base_uri": "https://localhost:8080/",
          "height": 355
        }
      },
      "source": [
        "!pip install pyreadstat\n",
        "import pyreadstat\n",
        "df, meta = pyreadstat.read_sav(\"/content/drive/My Drive/CS536/CleanedDataset.sav\")\n",
        "df.head()"
      ],
      "execution_count": 0,
      "outputs": [
        {
          "output_type": "stream",
          "text": [
            "Requirement already satisfied: pyreadstat in /usr/local/lib/python3.6/dist-packages (0.2.1)\n"
          ],
          "name": "stdout"
        },
        {
          "output_type": "execute_result",
          "data": {
            "text/html": [
              "<div>\n",
              "<style scoped>\n",
              "    .dataframe tbody tr th:only-of-type {\n",
              "        vertical-align: middle;\n",
              "    }\n",
              "\n",
              "    .dataframe tbody tr th {\n",
              "        vertical-align: top;\n",
              "    }\n",
              "\n",
              "    .dataframe thead th {\n",
              "        text-align: right;\n",
              "    }\n",
              "</style>\n",
              "<table border=\"1\" class=\"dataframe\">\n",
              "  <thead>\n",
              "    <tr style=\"text-align: right;\">\n",
              "      <th></th>\n",
              "      <th>session_id</th>\n",
              "      <th>session_date</th>\n",
              "      <th>last_update_date</th>\n",
              "      <th>session_last_update_date</th>\n",
              "      <th>referrer</th>\n",
              "      <th>creation_date</th>\n",
              "      <th>session_creation_date</th>\n",
              "      <th>expcomments</th>\n",
              "      <th>numparticipants_actual</th>\n",
              "      <th>numparticipants</th>\n",
              "      <th>...</th>\n",
              "      <th>diseaseforder</th>\n",
              "      <th>quoteorder</th>\n",
              "      <th>flagprimorder</th>\n",
              "      <th>sunkcostorder</th>\n",
              "      <th>anchorinorder</th>\n",
              "      <th>allowedforder</th>\n",
              "      <th>gamblerforder</th>\n",
              "      <th>moneypriorder</th>\n",
              "      <th>imaginedorder</th>\n",
              "      <th>iatorder</th>\n",
              "    </tr>\n",
              "  </thead>\n",
              "  <tbody>\n",
              "    <tr>\n",
              "      <th>0</th>\n",
              "      <td>2400853.0</td>\n",
              "      <td>2013-08-28 12:15:55</td>\n",
              "      <td>8/28/13 12:15</td>\n",
              "      <td>8/28/13 12:15</td>\n",
              "      <td>abington</td>\n",
              "      <td>2013-08-28 11:51:56</td>\n",
              "      <td>2013-08-28 11:51:56</td>\n",
              "      <td>.</td>\n",
              "      <td></td>\n",
              "      <td>5</td>\n",
              "      <td>...</td>\n",
              "      <td>4.0</td>\n",
              "      <td>3.0</td>\n",
              "      <td>7.0</td>\n",
              "      <td>2.0</td>\n",
              "      <td>8.0</td>\n",
              "      <td>6.0</td>\n",
              "      <td>10.0</td>\n",
              "      <td>1.0</td>\n",
              "      <td>11.0</td>\n",
              "      <td>12.0</td>\n",
              "    </tr>\n",
              "    <tr>\n",
              "      <th>1</th>\n",
              "      <td>2400856.0</td>\n",
              "      <td>2013-08-28 12:13:49</td>\n",
              "      <td>8/28/13 12:13</td>\n",
              "      <td>8/28/13 12:13</td>\n",
              "      <td>abington</td>\n",
              "      <td>2013-08-28 11:52:27</td>\n",
              "      <td>2013-08-28 11:52:27</td>\n",
              "      <td>.</td>\n",
              "      <td></td>\n",
              "      <td>5</td>\n",
              "      <td>...</td>\n",
              "      <td>7.0</td>\n",
              "      <td>5.0</td>\n",
              "      <td>2.0</td>\n",
              "      <td>6.0</td>\n",
              "      <td>11.0</td>\n",
              "      <td>9.0</td>\n",
              "      <td>1.0</td>\n",
              "      <td>4.0</td>\n",
              "      <td>8.0</td>\n",
              "      <td>12.0</td>\n",
              "    </tr>\n",
              "    <tr>\n",
              "      <th>2</th>\n",
              "      <td>2400860.0</td>\n",
              "      <td>2013-08-28 12:15:57</td>\n",
              "      <td>8/28/13 12:15</td>\n",
              "      <td>8/28/13 12:15</td>\n",
              "      <td>abington</td>\n",
              "      <td>2013-08-28 11:52:58</td>\n",
              "      <td>2013-08-28 11:52:58</td>\n",
              "      <td>.</td>\n",
              "      <td></td>\n",
              "      <td>5</td>\n",
              "      <td>...</td>\n",
              "      <td>2.0</td>\n",
              "      <td>8.0</td>\n",
              "      <td>9.0</td>\n",
              "      <td>3.0</td>\n",
              "      <td>5.0</td>\n",
              "      <td>10.0</td>\n",
              "      <td>6.0</td>\n",
              "      <td>4.0</td>\n",
              "      <td>11.0</td>\n",
              "      <td>12.0</td>\n",
              "    </tr>\n",
              "    <tr>\n",
              "      <th>3</th>\n",
              "      <td>2400868.0</td>\n",
              "      <td>2013-08-28 12:12:21</td>\n",
              "      <td>8/28/13 12:12</td>\n",
              "      <td>8/28/13 12:12</td>\n",
              "      <td>abington</td>\n",
              "      <td>2013-08-28 11:53:35</td>\n",
              "      <td>2013-08-28 11:53:35</td>\n",
              "      <td>.</td>\n",
              "      <td></td>\n",
              "      <td>5</td>\n",
              "      <td>...</td>\n",
              "      <td>7.0</td>\n",
              "      <td>8.0</td>\n",
              "      <td>10.0</td>\n",
              "      <td>6.0</td>\n",
              "      <td>9.0</td>\n",
              "      <td>4.0</td>\n",
              "      <td>1.0</td>\n",
              "      <td>11.0</td>\n",
              "      <td>2.0</td>\n",
              "      <td>12.0</td>\n",
              "    </tr>\n",
              "    <tr>\n",
              "      <th>4</th>\n",
              "      <td>2400872.0</td>\n",
              "      <td>2013-08-28 12:11:58</td>\n",
              "      <td>8/28/13 12:11</td>\n",
              "      <td>8/28/13 12:11</td>\n",
              "      <td>abington</td>\n",
              "      <td>2013-08-28 11:54:04</td>\n",
              "      <td>2013-08-28 11:54:04</td>\n",
              "      <td>.</td>\n",
              "      <td></td>\n",
              "      <td>.</td>\n",
              "      <td>...</td>\n",
              "      <td>10.0</td>\n",
              "      <td>3.0</td>\n",
              "      <td>11.0</td>\n",
              "      <td>6.0</td>\n",
              "      <td>9.0</td>\n",
              "      <td>5.0</td>\n",
              "      <td>4.0</td>\n",
              "      <td>1.0</td>\n",
              "      <td>2.0</td>\n",
              "      <td>12.0</td>\n",
              "    </tr>\n",
              "  </tbody>\n",
              "</table>\n",
              "<p>5 rows × 382 columns</p>\n",
              "</div>"
            ],
            "text/plain": [
              "   session_id        session_date last_update_date session_last_update_date  \\\n",
              "0   2400853.0 2013-08-28 12:15:55    8/28/13 12:15            8/28/13 12:15   \n",
              "1   2400856.0 2013-08-28 12:13:49    8/28/13 12:13            8/28/13 12:13   \n",
              "2   2400860.0 2013-08-28 12:15:57    8/28/13 12:15            8/28/13 12:15   \n",
              "3   2400868.0 2013-08-28 12:12:21    8/28/13 12:12            8/28/13 12:12   \n",
              "4   2400872.0 2013-08-28 12:11:58    8/28/13 12:11            8/28/13 12:11   \n",
              "\n",
              "   referrer       creation_date session_creation_date expcomments  \\\n",
              "0  abington 2013-08-28 11:51:56   2013-08-28 11:51:56           .   \n",
              "1  abington 2013-08-28 11:52:27   2013-08-28 11:52:27           .   \n",
              "2  abington 2013-08-28 11:52:58   2013-08-28 11:52:58           .   \n",
              "3  abington 2013-08-28 11:53:35   2013-08-28 11:53:35           .   \n",
              "4  abington 2013-08-28 11:54:04   2013-08-28 11:54:04           .   \n",
              "\n",
              "  numparticipants_actual numparticipants  ... diseaseforder quoteorder  \\\n",
              "0                                      5  ...           4.0        3.0   \n",
              "1                                      5  ...           7.0        5.0   \n",
              "2                                      5  ...           2.0        8.0   \n",
              "3                                      5  ...           7.0        8.0   \n",
              "4                                      .  ...          10.0        3.0   \n",
              "\n",
              "  flagprimorder sunkcostorder anchorinorder allowedforder gamblerforder  \\\n",
              "0           7.0           2.0           8.0           6.0          10.0   \n",
              "1           2.0           6.0          11.0           9.0           1.0   \n",
              "2           9.0           3.0           5.0          10.0           6.0   \n",
              "3          10.0           6.0           9.0           4.0           1.0   \n",
              "4          11.0           6.0           9.0           5.0           4.0   \n",
              "\n",
              "   moneypriorder  imaginedorder  iatorder  \n",
              "0            1.0           11.0      12.0  \n",
              "1            4.0            8.0      12.0  \n",
              "2            4.0           11.0      12.0  \n",
              "3           11.0            2.0      12.0  \n",
              "4            1.0            2.0      12.0  \n",
              "\n",
              "[5 rows x 382 columns]"
            ]
          },
          "metadata": {
            "tags": []
          },
          "execution_count": 2
        }
      ]
    },
    {
      "cell_type": "code",
      "metadata": {
        "id": "2rlwidoOQ7u1",
        "colab_type": "code",
        "outputId": "781cd56b-f585-4641-9976-3784d311febb",
        "colab": {
          "base_uri": "https://localhost:8080/",
          "height": 372
        }
      },
      "source": [
        "data=pd.read_csv(\"/content/drive/My Drive/CS536/csvfiles/datac.csv\",encoding='unicode_escape')\n",
        "data.head()"
      ],
      "execution_count": 0,
      "outputs": [
        {
          "output_type": "execute_result",
          "data": {
            "text/html": [
              "<div>\n",
              "<style scoped>\n",
              "    .dataframe tbody tr th:only-of-type {\n",
              "        vertical-align: middle;\n",
              "    }\n",
              "\n",
              "    .dataframe tbody tr th {\n",
              "        vertical-align: top;\n",
              "    }\n",
              "\n",
              "    .dataframe thead th {\n",
              "        text-align: right;\n",
              "    }\n",
              "</style>\n",
              "<table border=\"1\" class=\"dataframe\">\n",
              "  <thead>\n",
              "    <tr style=\"text-align: right;\">\n",
              "      <th></th>\n",
              "      <th>session_id</th>\n",
              "      <th>session_date</th>\n",
              "      <th>last_update_date</th>\n",
              "      <th>session_last_update_date</th>\n",
              "      <th>referrer</th>\n",
              "      <th>creation_date</th>\n",
              "      <th>session_creation_date</th>\n",
              "      <th>expcomments</th>\n",
              "      <th>numparticipants_actual</th>\n",
              "      <th>numparticipants</th>\n",
              "      <th>...</th>\n",
              "      <th>diseaseforder</th>\n",
              "      <th>quoteorder</th>\n",
              "      <th>flagprimorder</th>\n",
              "      <th>sunkcostorder</th>\n",
              "      <th>anchorinorder</th>\n",
              "      <th>allowedforder</th>\n",
              "      <th>gamblerforder</th>\n",
              "      <th>moneypriorder</th>\n",
              "      <th>imaginedorder</th>\n",
              "      <th>iatorder</th>\n",
              "    </tr>\n",
              "  </thead>\n",
              "  <tbody>\n",
              "    <tr>\n",
              "      <th>0</th>\n",
              "      <td>2407367</td>\n",
              "      <td>3/9/2013</td>\n",
              "      <td>9/3/13 12:47</td>\n",
              "      <td>9/3/13 12:47</td>\n",
              "      <td>abington</td>\n",
              "      <td>3/9/2013</td>\n",
              "      <td>3/9/2013</td>\n",
              "      <td>NaN</td>\n",
              "      <td></td>\n",
              "      <td>9</td>\n",
              "      <td>...</td>\n",
              "      <td>3</td>\n",
              "      <td>5</td>\n",
              "      <td>9</td>\n",
              "      <td>10</td>\n",
              "      <td>11</td>\n",
              "      <td>7</td>\n",
              "      <td>2</td>\n",
              "      <td>4</td>\n",
              "      <td>8</td>\n",
              "      <td>12</td>\n",
              "    </tr>\n",
              "    <tr>\n",
              "      <th>1</th>\n",
              "      <td>2401249</td>\n",
              "      <td>28/8/2013</td>\n",
              "      <td>8/28/13 15:31</td>\n",
              "      <td>8/28/13 15:31</td>\n",
              "      <td>brasilia</td>\n",
              "      <td>28/8/2013</td>\n",
              "      <td>28/8/2013</td>\n",
              "      <td>atividade did??tica em disciplina</td>\n",
              "      <td></td>\n",
              "      <td>20</td>\n",
              "      <td>...</td>\n",
              "      <td>5</td>\n",
              "      <td>2</td>\n",
              "      <td>4</td>\n",
              "      <td>1</td>\n",
              "      <td>8</td>\n",
              "      <td>11</td>\n",
              "      <td>3</td>\n",
              "      <td>7</td>\n",
              "      <td>6</td>\n",
              "      <td>12</td>\n",
              "    </tr>\n",
              "    <tr>\n",
              "      <th>2</th>\n",
              "      <td>2401250</td>\n",
              "      <td>28/8/2013</td>\n",
              "      <td>8/28/13 15:24</td>\n",
              "      <td>8/28/13 15:24</td>\n",
              "      <td>brasilia</td>\n",
              "      <td>28/8/2013</td>\n",
              "      <td>28/8/2013</td>\n",
              "      <td>atividade did??tica em disciplina</td>\n",
              "      <td></td>\n",
              "      <td>20</td>\n",
              "      <td>...</td>\n",
              "      <td>6</td>\n",
              "      <td>9</td>\n",
              "      <td>7</td>\n",
              "      <td>11</td>\n",
              "      <td>5</td>\n",
              "      <td>3</td>\n",
              "      <td>4</td>\n",
              "      <td>10</td>\n",
              "      <td>2</td>\n",
              "      <td>12</td>\n",
              "    </tr>\n",
              "    <tr>\n",
              "      <th>3</th>\n",
              "      <td>2401328</td>\n",
              "      <td>28/8/2013</td>\n",
              "      <td>8/28/13 16:00</td>\n",
              "      <td>8/28/13 16:00</td>\n",
              "      <td>brasilia</td>\n",
              "      <td>28/8/2013</td>\n",
              "      <td>28/8/2013</td>\n",
              "      <td>atividade did??tica</td>\n",
              "      <td></td>\n",
              "      <td>20</td>\n",
              "      <td>...</td>\n",
              "      <td>7</td>\n",
              "      <td>10</td>\n",
              "      <td>5</td>\n",
              "      <td>3</td>\n",
              "      <td>1</td>\n",
              "      <td>11</td>\n",
              "      <td>9</td>\n",
              "      <td>6</td>\n",
              "      <td>2</td>\n",
              "      <td>12</td>\n",
              "    </tr>\n",
              "    <tr>\n",
              "      <th>4</th>\n",
              "      <td>2401371</td>\n",
              "      <td>28/8/2013</td>\n",
              "      <td>8/28/13 16:37</td>\n",
              "      <td>8/28/13 16:37</td>\n",
              "      <td>brasilia</td>\n",
              "      <td>28/8/2013</td>\n",
              "      <td>28/8/2013</td>\n",
              "      <td>atividade didatica em disciplina</td>\n",
              "      <td></td>\n",
              "      <td>20</td>\n",
              "      <td>...</td>\n",
              "      <td>9</td>\n",
              "      <td>2</td>\n",
              "      <td>8</td>\n",
              "      <td>1</td>\n",
              "      <td>7</td>\n",
              "      <td>10</td>\n",
              "      <td>6</td>\n",
              "      <td>11</td>\n",
              "      <td>3</td>\n",
              "      <td>12</td>\n",
              "    </tr>\n",
              "  </tbody>\n",
              "</table>\n",
              "<p>5 rows × 382 columns</p>\n",
              "</div>"
            ],
            "text/plain": [
              "   session_id session_date last_update_date session_last_update_date  \\\n",
              "0     2407367     3/9/2013     9/3/13 12:47             9/3/13 12:47   \n",
              "1     2401249    28/8/2013    8/28/13 15:31            8/28/13 15:31   \n",
              "2     2401250    28/8/2013    8/28/13 15:24            8/28/13 15:24   \n",
              "3     2401328    28/8/2013    8/28/13 16:00            8/28/13 16:00   \n",
              "4     2401371    28/8/2013    8/28/13 16:37            8/28/13 16:37   \n",
              "\n",
              "   referrer creation_date session_creation_date  \\\n",
              "0  abington      3/9/2013              3/9/2013   \n",
              "1  brasilia     28/8/2013             28/8/2013   \n",
              "2  brasilia     28/8/2013             28/8/2013   \n",
              "3  brasilia     28/8/2013             28/8/2013   \n",
              "4  brasilia     28/8/2013             28/8/2013   \n",
              "\n",
              "                         expcomments numparticipants_actual numparticipants  \\\n",
              "0                                NaN                                      9   \n",
              "1  atividade did??tica em disciplina                                     20   \n",
              "2  atividade did??tica em disciplina                                     20   \n",
              "3                atividade did??tica                                     20   \n",
              "4   atividade didatica em disciplina                                     20   \n",
              "\n",
              "   ... diseaseforder quoteorder flagprimorder sunkcostorder anchorinorder  \\\n",
              "0  ...             3          5             9            10            11   \n",
              "1  ...             5          2             4             1             8   \n",
              "2  ...             6          9             7            11             5   \n",
              "3  ...             7         10             5             3             1   \n",
              "4  ...             9          2             8             1             7   \n",
              "\n",
              "  allowedforder gamblerforder  moneypriorder imaginedorder iatorder  \n",
              "0             7             2              4             8       12  \n",
              "1            11             3              7             6       12  \n",
              "2             3             4             10             2       12  \n",
              "3            11             9              6             2       12  \n",
              "4            10             6             11             3       12  \n",
              "\n",
              "[5 rows x 382 columns]"
            ]
          },
          "metadata": {
            "tags": []
          },
          "execution_count": 3
        }
      ]
    },
    {
      "cell_type": "markdown",
      "metadata": {
        "id": "MoOTA5_je4Ku",
        "colab_type": "text"
      },
      "source": [
        "# Data separated as per data type"
      ]
    },
    {
      "cell_type": "code",
      "metadata": {
        "id": "Hftn2NeIywR9",
        "colab_type": "code",
        "colab": {}
      },
      "source": [
        "data = data.replace(r'^\\s+$', np.nan, regex=True)"
      ],
      "execution_count": 0,
      "outputs": []
    },
    {
      "cell_type": "code",
      "metadata": {
        "id": "sggB5zj-JCti",
        "colab_type": "code",
        "outputId": "d4732edf-4633-4093-a5e4-e08e6ea94a4b",
        "colab": {
          "base_uri": "https://localhost:8080/",
          "height": 34
        }
      },
      "source": [
        "data.shape"
      ],
      "execution_count": 0,
      "outputs": [
        {
          "output_type": "execute_result",
          "data": {
            "text/plain": [
              "(6344, 382)"
            ]
          },
          "metadata": {
            "tags": []
          },
          "execution_count": 45
        }
      ]
    },
    {
      "cell_type": "code",
      "metadata": {
        "id": "qX040goFpmGq",
        "colab_type": "code",
        "colab": {}
      },
      "source": [
        "data_cat = data[['referrer','expgender','flagGroup','exprunafter','compensation','recruitment','separatedornot','sample','sunkgroup', 'gainlossgroup','gainlossDV','anch1group','anch2group','anch3group','anch4group','gambfalgroup','scalesgroup','scales','scalesreca','scalesrecb', 'reciprocitygroup','reciprocityother','reciprocityus','allowedforbiddenGroup','allowedforbidden','quotearec','quotebrec','quoteGroup','quote','totalflagestimations','totalnoflagtimeestimations','flagfilter','MoneyGroup','moneyfilter','ContactGroup','IATfilter','partgender','totexpmissed','IATEXPfilter', 'allowedforbiddena','allowedforbiddenb','artwarm','citizenship','diseaseframinga','diseaseframingb','ethnicity','flagdv1','flagdv2','flagdv3','flagdv4','flagdv5','flagdv6','flagdv7','flagdv8','flagsupplement1','flagsupplement2','flagsupplement3','flagtimeestimate1','flagtimeestimate2','flagtimeestimate3','flagtimeestimate4','iatexplicitart1','iatexplicitart2','iatexplicitart3','iatexplicitart4','iatexplicitart5','iatexplicitart6','iatexplicitmath1','iatexplicitmath2','iatexplicitmath3','iatexplicitmath4','iatexplicitmath5','iatexplicitmath6','imaginedexplicit1','imaginedexplicit2','imaginedexplicit3','imaginedexplicit4','imaginedexplicit1','imaginedexplicit2','imaginedexplicit3','imaginedexplicit4','major','mathwarm','moneyagea','moneyageb','imaginedexplicit1','imaginedexplicit2','imaginedexplicit3','imaginedexplicit4','major','mathwarm','moneyagea','moneyageb','politicalid','quotea','quoteb','reciprocityothera','reciprocityotherb','reciprocityusa','reciprocityusb','scalesa','scalesb','sex','sunkcosta','sunkcostb','sysjust1','sysjust2','sysjust3','sysjust4','sysjust5','sysjust6','sysjust7','sysjust8','previous_session_schema','user_agent','study_url','study_name','us_or_international','lab_or_online','task_id.1','task_id.3','task_id.4','task_id.5','task_id.6','task_id.7','task_id.8','task_id.9','task_id.10','task_id.11','task_id.12','task_id.13','task_id.14','task_id.15','task_id.16','task_id.17','task_id.18','task_id.19','task_id.20','task_id.21','task_id.22','task_id.23','task_id.25','task_id.26','task_id.27','task_id.28','task_id.29','task_id.30','task_id.31','task_id.32','task_id.33','task_id.34','task_id.35','task_id.36','task_id.37','task_id.38','task_id.39','task_id.25','task_id.26','task_id.27','task_id.28','task_id.29','task_id.30','task_id.31','task_id.32','task_id.33','task_id.34','task_id.35','task_id.36','task_id.37','task_id.38','task_id.39','citizenship2','religion','priorexposure1','priorexposure10','priorexposure11','priorexposure12','priorexposure13','priorexposure2','priorexposure3','priorexposure4','priorexposure5','priorexposure6','priorexposure7','priorexposure8','priorexposure9','task_url.45','task_creation_date.45','mturk.non.US','mturk.total.mini.exps','mturk.duplicate','mturk.exclude.null','mturk.keep','mturk.exclude','filter_$','order','iat_exclude','o1','o2','o3','o4','o5','o6','o7','o8','o9','o10','o11','scalesorder','reciprocorder','diseaseforder','quoteorder','flagprimorder','sunkcostorder','anchorinorder','allowedforder','gamblerforder','moneypriorder','imaginedorder','task_url.2', 'task_url.3', 'task_url.4', 'task_url.5', 'task_url.6',\n",
        "       'task_url.7', 'task_url.8', 'task_url.9', 'task_url.10', 'task_url.11',\n",
        "       'task_url.12', 'task_url.13', 'task_url.14', 'task_url.15',\n",
        "       'task_url.16', 'task_url.17', 'task_url.18', 'task_url.19',\n",
        "       'task_url.20', 'task_url.21', 'task_url.22', 'task_url.23',\n",
        "       'task_url.24', 'task_url.25', 'task_url.26', 'task_url.27',\n",
        "       'task_url.28', 'task_url.29', 'task_url.30', 'task_url.31',\n",
        "       'task_url.32', 'task_url.33', 'task_url.34', 'task_url.35',\n",
        "       'task_url.36', 'task_url.37', 'task_url.38', 'task_url.39',\n",
        "       'task_url.40', 'task_url.41', 'task_url.42', 'task_url.43',\n",
        "       'task_url.44', 'task_id.24', 'task_id.40', 'task_id.41',\n",
        "       'task_id.42', 'task_id.43', 'task_id.44', 'task_url.0',  'moneyethnicitya',\n",
        "       'moneyethnicityb', 'moneygendera', 'moneygenderb', 'nativelang',\n",
        "       'nativelang2', 'noflagtimeestimate1', 'noflagtimeestimate2',\n",
        "       'noflagtimeestimate3', 'noflagtimeestimate4', 'omdimc3', 'race','task_url.1']]"
      ],
      "execution_count": 0,
      "outputs": []
    },
    {
      "cell_type": "code",
      "metadata": {
        "id": "SnCFjfOwrnfA",
        "colab_type": "code",
        "outputId": "f689db36-1e1f-4192-e514-7b93847b84a1",
        "colab": {
          "base_uri": "https://localhost:8080/",
          "height": 34
        }
      },
      "source": [
        "data_cat.shape"
      ],
      "execution_count": 0,
      "outputs": [
        {
          "output_type": "execute_result",
          "data": {
            "text/plain": [
              "(6344, 282)"
            ]
          },
          "metadata": {
            "tags": []
          },
          "execution_count": 88
        }
      ]
    },
    {
      "cell_type": "code",
      "metadata": {
        "id": "jHFTK0e-rqMI",
        "colab_type": "code",
        "colab": {}
      },
      "source": [
        "data_num = data[['gambfalDV','numparticipants_actual','numparticipants','exprace','age','sunkDV','anchoring1','anchoring2','anchoring3','anchoring4','Ranchori','RAN001','RAN002','RAN003','Ranch1','Ranch2','Ranch3','Ranch4','flagdv','Sysjust','Imagineddv','IATexpart','IATexpmath','IATexp.overall','anchoring1a','anchoring1b','anchoring2a','anchoring2b','anchoring3a','anchoring3b','anchoring4a','anchoring4b','d_donotuse','gamblerfallacya','gamblerfallacyb','omdimc3rt','omdimc3trt','previous_session_id','anchoring1akm','anchoring1bkm','anchoring3ameter','anchoring3bmeter','meanlatency','meanerror','block2_meanerror','block3_meanerror','block5_meanerror','block6_meanerror','lat11','lat12','lat21','lat22','sd1','sd2','d_art1','d_art2','d_art']]"
      ],
      "execution_count": 0,
      "outputs": []
    },
    {
      "cell_type": "code",
      "metadata": {
        "id": "4V6ESL69tBlx",
        "colab_type": "code",
        "outputId": "ba20024c-61c9-4bea-88d0-9866c21a7ce9",
        "colab": {
          "base_uri": "https://localhost:8080/",
          "height": 34
        }
      },
      "source": [
        "data_num.shape"
      ],
      "execution_count": 0,
      "outputs": [
        {
          "output_type": "execute_result",
          "data": {
            "text/plain": [
              "(6344, 57)"
            ]
          },
          "metadata": {
            "tags": []
          },
          "execution_count": 54
        }
      ]
    },
    {
      "cell_type": "code",
      "metadata": {
        "id": "x9nQmUrutDxK",
        "colab_type": "code",
        "colab": {}
      },
      "source": [
        "data_nlp = data[['expcomments','feedback','exprunafter2','imagineddescribe','text']]"
      ],
      "execution_count": 0,
      "outputs": []
    },
    {
      "cell_type": "code",
      "metadata": {
        "id": "pU9phzt4tZLM",
        "colab_type": "code",
        "outputId": "4846d41e-117c-44ef-ead8-24934baffb2f",
        "colab": {
          "base_uri": "https://localhost:8080/",
          "height": 34
        }
      },
      "source": [
        "data_nlp.shape"
      ],
      "execution_count": 0,
      "outputs": [
        {
          "output_type": "execute_result",
          "data": {
            "text/plain": [
              "(6344, 4)"
            ]
          },
          "metadata": {
            "tags": []
          },
          "execution_count": 56
        }
      ]
    },
    {
      "cell_type": "code",
      "metadata": {
        "id": "MjUKZK-Otni4",
        "colab_type": "code",
        "colab": {}
      },
      "source": [
        "data_date = data[['session_id', 'session_date', 'last_update_date','session_last_update_date','creation_date','session_creation_date','task_creation_date.1','task_creation_date.2','task_creation_date.3','task_creation_date.4','task_creation_date.5','task_creation_date.6','task_creation_date.7','task_creation_date.8','task_creation_date.9','task_creation_date.10','task_creation_date.11','task_creation_date.12','task_creation_date.13','task_creation_date.14','task_creation_date.15','task_creation_date.16','task_creation_date.17','task_creation_date.18','task_creation_date.19','task_creation_date.20','task_creation_date.21','task_creation_date.22','task_creation_date.23','task_creation_date.24','task_creation_date.25','task_creation_date.26','task_creation_date.27','task_creation_date.28','task_creation_date.29','task_creation_date.30','task_creation_date.31','task_creation_date.32','task_creation_date.33','task_creation_date.34','task_creation_date.35','task_creation_date.36','task_creation_date.37','task_creation_date.38','task_creation_date.39','task_creation_date.40','task_creation_date.41','task_creation_date.42','task_creation_date.43','task_creation_date.44']]"
      ],
      "execution_count": 0,
      "outputs": []
    },
    {
      "cell_type": "code",
      "metadata": {
        "id": "QvTK9_2ntw_T",
        "colab_type": "code",
        "outputId": "1d6b9cf5-e1c1-411a-f88b-35a971cea02a",
        "colab": {
          "base_uri": "https://localhost:8080/",
          "height": 34
        }
      },
      "source": [
        "data_date.shape"
      ],
      "execution_count": 0,
      "outputs": [
        {
          "output_type": "execute_result",
          "data": {
            "text/plain": [
              "(6344, 47)"
            ]
          },
          "metadata": {
            "tags": []
          },
          "execution_count": 58
        }
      ]
    },
    {
      "cell_type": "code",
      "metadata": {
        "id": "BjDp4_lcupXc",
        "colab_type": "code",
        "colab": {}
      },
      "source": [
        "data_1val = data[['task_creation_date.0','session_status','gamblerfallacya_sd','gamblerfallacyb_sd','imptaskto','task_status','task_sequence','session_created_by','task_id.0','task_id.2','task_id.45','beginlocaltime','mturk.Submitted.PaymentReq','iatorder']]"
      ],
      "execution_count": 0,
      "outputs": []
    },
    {
      "cell_type": "code",
      "metadata": {
        "id": "Si96e6eru10_",
        "colab_type": "code",
        "outputId": "ee638b59-67ca-4322-9f79-a13f14ac2135",
        "colab": {
          "base_uri": "https://localhost:8080/",
          "height": 34
        }
      },
      "source": [
        "data_1val.shape"
      ],
      "execution_count": 0,
      "outputs": [
        {
          "output_type": "execute_result",
          "data": {
            "text/plain": [
              "(6344, 14)"
            ]
          },
          "metadata": {
            "tags": []
          },
          "execution_count": 36
        }
      ]
    },
    {
      "cell_type": "code",
      "metadata": {
        "id": "HLPIMcS_yxBT",
        "colab_type": "code",
        "colab": {}
      },
      "source": [
        "data_cat.to_csv('/content/drive/My Drive/CS536/csvfiles/data_cat.csv', index=False)\n",
        "data_num.to_csv('/content/drive/My Drive/CS536/csvfiles/data_num.csv', index=False)\n",
        "data_1val.to_csv('/content/drive/My Drive/CS536/csvfiles/data_1val.csv', index=False)\n",
        "data_nlp.to_csv('/content/drive/My Drive/CS536/csvfiles/data_nlp.csv', index=False)\n",
        "data_date.to_csv('/content/drive/My Drive/CS536/csvfiles/data_date.csv', index=False)"
      ],
      "execution_count": 0,
      "outputs": []
    },
    {
      "cell_type": "code",
      "metadata": {
        "id": "RLjTBWcyvH6x",
        "colab_type": "code",
        "colab": {}
      },
      "source": [
        "temp_11 = data.drop(data_cat.columns, axis=1)\n",
        "temp_11 = temp_11.drop(data_num.columns,axis =1)\n",
        "temp_11 = temp_11.drop(data_nlp.columns,axis =1)\n",
        "temp_11 = temp_11.drop(data_1val.columns,axis =1)\n",
        "temp_11 = temp_11.drop(data_date.columns,axis =1)"
      ],
      "execution_count": 0,
      "outputs": []
    },
    {
      "cell_type": "code",
      "metadata": {
        "id": "8IXUHrlovapD",
        "colab_type": "code",
        "outputId": "729b5bbf-0030-4577-a67b-204dd580751b",
        "colab": {
          "base_uri": "https://localhost:8080/",
          "height": 34
        }
      },
      "source": [
        "temp_11.columns"
      ],
      "execution_count": 0,
      "outputs": [
        {
          "output_type": "execute_result",
          "data": {
            "text/plain": [
              "Index(['user_id'], dtype='object')"
            ]
          },
          "metadata": {
            "tags": []
          },
          "execution_count": 98
        }
      ]
    },
    {
      "cell_type": "markdown",
      "metadata": {
        "id": "fhvemmpsCerk",
        "colab_type": "text"
      },
      "source": [
        "# Data Exploration"
      ]
    },
    {
      "cell_type": "code",
      "metadata": {
        "id": "PxU-aKfhMMCp",
        "colab_type": "code",
        "outputId": "fa167d6b-d3bf-4081-e34d-ae6ea6c4e419",
        "colab": {
          "base_uri": "https://localhost:8080/",
          "height": 98
        }
      },
      "source": [
        "rowfull = pd.DataFrame(columns = data.columns)\n",
        "for i in range(len(data)):\n",
        "        if data.loc[i].isnull().sum() == 0:\n",
        "            rowfull = rowfull.append(data.loc[i])\n",
        "\n",
        "rowfull.head()"
      ],
      "execution_count": 0,
      "outputs": [
        {
          "output_type": "execute_result",
          "data": {
            "text/html": [
              "<div>\n",
              "<style scoped>\n",
              "    .dataframe tbody tr th:only-of-type {\n",
              "        vertical-align: middle;\n",
              "    }\n",
              "\n",
              "    .dataframe tbody tr th {\n",
              "        vertical-align: top;\n",
              "    }\n",
              "\n",
              "    .dataframe thead th {\n",
              "        text-align: right;\n",
              "    }\n",
              "</style>\n",
              "<table border=\"1\" class=\"dataframe\">\n",
              "  <thead>\n",
              "    <tr style=\"text-align: right;\">\n",
              "      <th></th>\n",
              "      <th>session_id</th>\n",
              "      <th>session_date</th>\n",
              "      <th>last_update_date</th>\n",
              "      <th>session_last_update_date</th>\n",
              "      <th>referrer</th>\n",
              "      <th>creation_date</th>\n",
              "      <th>session_creation_date</th>\n",
              "      <th>expcomments</th>\n",
              "      <th>numparticipants_actual</th>\n",
              "      <th>numparticipants</th>\n",
              "      <th>...</th>\n",
              "      <th>diseaseforder</th>\n",
              "      <th>quoteorder</th>\n",
              "      <th>flagprimorder</th>\n",
              "      <th>sunkcostorder</th>\n",
              "      <th>anchorinorder</th>\n",
              "      <th>allowedforder</th>\n",
              "      <th>gamblerforder</th>\n",
              "      <th>moneypriorder</th>\n",
              "      <th>imaginedorder</th>\n",
              "      <th>iatorder</th>\n",
              "    </tr>\n",
              "  </thead>\n",
              "  <tbody>\n",
              "  </tbody>\n",
              "</table>\n",
              "<p>0 rows × 382 columns</p>\n",
              "</div>"
            ],
            "text/plain": [
              "Empty DataFrame\n",
              "Columns: [session_id, session_date, last_update_date, session_last_update_date, referrer, creation_date, session_creation_date, expcomments, numparticipants_actual, numparticipants, expgender, exprace, exprunafter, exprunafter2, compensation, recruitment, separatedornot, age, sample, sunkgroup, sunkDV, gainlossgroup, gainlossDV, anch1group, anch2group, anch3group, anch4group, anchoring1, anchoring2, anchoring3, anchoring4, Ranchori, RAN001, RAN002, RAN003, Ranch1, Ranch2, Ranch3, Ranch4, gambfalgroup, gambfalDV, gamblerfallacya_sd, gamblerfallacyb_sd, scalesgroup, scalesreca, scalesrecb, scales, reciprocitygroup, reciprocityother, reciprocityus, allowedforbiddenGroup, allowedforbidden, quotearec, quotebrec, quoteGroup, quote, totalflagestimations, totalnoflagtimeestimations, flagfilter, flagdv, flagGroup, Sysjust, MoneyGroup, moneyfilter, ContactGroup, Imagineddv, IATfilter, partgender, IATexpart, IATexpmath, IATexp.overall, totexpmissed, IATEXPfilter, allowedforbiddena, allowedforbiddenb, anchoring1a, anchoring1b, anchoring2a, anchoring2b, anchoring3a, anchoring3b, anchoring4a, anchoring4b, artwarm, citizenship, d_donotuse, diseaseframinga, diseaseframingb, ethnicity, feedback, flagdv1, flagdv2, flagdv3, flagdv4, flagdv5, flagdv6, flagdv7, flagdv8, flagsupplement1, flagsupplement2, ...]\n",
              "Index: []\n",
              "\n",
              "[0 rows x 382 columns]"
            ]
          },
          "metadata": {
            "tags": []
          },
          "execution_count": 15
        }
      ]
    },
    {
      "cell_type": "code",
      "metadata": {
        "id": "z2h8GKBJfcZg",
        "colab_type": "code",
        "colab": {}
      },
      "source": [
        "x = data.isna().sum()"
      ],
      "execution_count": 0,
      "outputs": []
    },
    {
      "cell_type": "code",
      "metadata": {
        "id": "-7q7FEHl6j10",
        "colab_type": "code",
        "outputId": "65ff91b5-a5ab-4702-f99a-e5f0868045a1",
        "colab": {
          "base_uri": "https://localhost:8080/",
          "height": 51
        }
      },
      "source": [
        "data_num=pd.read_csv(\"/content/drive/My Drive/CS536/csvfiles/data_num.csv\",encoding='unicode_escape')\n",
        "data_cat=pd.read_csv(\"/content/drive/My Drive/CS536/csvfiles/data_cat.csv\",encoding='unicode_escape')\n",
        "data_date=pd.read_csv(\"/content/drive/My Drive/CS536/csvfiles/data_date.csv\",encoding='unicode_escape')\n",
        "data_nlp = pd.read_csv(\"/content/drive/My Drive/CS536/csvfiles/data_nlp_f1.csv\",encoding='unicode_escape') "
      ],
      "execution_count": 0,
      "outputs": [
        {
          "output_type": "stream",
          "text": [
            "/usr/local/lib/python3.6/dist-packages/IPython/core/interactiveshell.py:2718: DtypeWarning: Columns (172,188) have mixed types. Specify dtype option on import or set low_memory=False.\n",
            "  interactivity=interactivity, compiler=compiler, result=result)\n"
          ],
          "name": "stderr"
        }
      ]
    },
    {
      "cell_type": "code",
      "metadata": {
        "id": "bC6L2S--5_Ao",
        "colab_type": "code",
        "outputId": "fceac515-cfde-4c7a-b7d6-0809648530af",
        "colab": {
          "base_uri": "https://localhost:8080/",
          "height": 621
        }
      },
      "source": [
        "df_list = [data_cat, data_num, data_nlp, data_date, data_1val]\n",
        "count_list = [len(i.columns) for i in df_list]\n",
        "x_list = ['categorical', 'numerical', 'NLP', 'Date', 'Single Value']\n",
        "\n",
        "\n",
        "plt.figure(figsize=(10, 10))\n",
        "plt.bar(x_list, count_list)\n",
        "plt.title('Data type Distribution')\n",
        "plt.xlabel('Data types')\n",
        "plt.ylabel('Values')\n",
        "#plt.xlim(34.2,73.7)\n",
        "#plt.ylim(40.45,40.95)\n",
        "\n",
        "#width = buckets[1] - buckets[0]\n",
        "#plt.bar(buckets, hist, align='center', width=width)\n",
        "plt.show()\n"
      ],
      "execution_count": 0,
      "outputs": [
        {
          "output_type": "display_data",
          "data": {
            "image/png": "[encoded data removed]",
            "text/plain": [
              "<Figure size 720x720 with 1 Axes>"
            ]
          },
          "metadata": {
            "tags": []
          }
        }
      ]
    },
    {
      "cell_type": "code",
      "metadata": {
        "id": "1VKEBfbegDtR",
        "colab_type": "code",
        "outputId": "e245e51b-949f-40e3-a681-a4451a09d763",
        "colab": {
          "base_uri": "https://localhost:8080/",
          "height": 621
        }
      },
      "source": [
        "intervals = [1000*i for i in range(0,7)]\n",
        "buckets = [len(x[(x == 0)])]\n",
        "interval_list = ['0', '<1000', '<2000', '<3000', '<4000', '<5000', '<6000']\n",
        "\n",
        "for i in range(0, len(intervals)-1):\n",
        "    buckets.append(len(x[(x > intervals[i-1]) & (x <= intervals[i])])) \n",
        "\n",
        "plt.figure(figsize=(15, 10))\n",
        "plt.bar(interval_list, buckets)\n",
        "plt.title('Empty cells Distribution')\n",
        "plt.xlabel('Range')\n",
        "plt.ylabel('Data points count')\n",
        "plt.show()\n"
      ],
      "execution_count": 0,
      "outputs": [
        {
          "output_type": "display_data",
          "data": {
            "image/png": "[encoded data removed]",
            "text/plain": [
              "<Figure size 1080x720 with 1 Axes>"
            ]
          },
          "metadata": {
            "tags": []
          }
        }
      ]
    },
    {
      "cell_type": "code",
      "metadata": {
        "id": "2k5Op4sDvYaD",
        "colab_type": "code",
        "outputId": "fc709781-8434-4ab6-fd31-a2978a422900",
        "colab": {
          "base_uri": "https://localhost:8080/",
          "height": 54
        }
      },
      "source": [
        "count = 0\n",
        "full_cols =[]\n",
        "for i in data.columns:\n",
        "    if data[i].isnull().sum() == 0:\n",
        "        count += 1\n",
        "        full_cols.append(i)\n",
        "count\n",
        "print(full_cols) "
      ],
      "execution_count": 0,
      "outputs": [
        {
          "output_type": "stream",
          "text": [
            "['session_id', 'session_date', 'last_update_date', 'session_last_update_date', 'referrer', 'creation_date', 'session_creation_date', 'sample', 'sunkgroup', 'gainlossgroup', 'anch1group', 'anch2group', 'anch3group', 'anch4group', 'gambfalgroup', 'gamblerfallacya_sd', 'gamblerfallacyb_sd', 'scalesgroup', 'reciprocitygroup', 'allowedforbiddenGroup', 'quoteGroup', 'flagfilter', 'flagGroup', 'MoneyGroup', 'moneyfilter', 'ContactGroup', 'IATfilter', 'totexpmissed', 'IATEXPfilter', 'imagineddescribe', 'text', 'user_id', 'session_status', 'previous_session_id', 'user_agent', 'session_created_by', 'study_url', 'study_name', 'us_or_international', 'lab_or_online', 'task_id.0', 'task_id.1', 'task_id.2', 'task_id.3', 'task_id.4', 'task_id.5', 'task_id.6', 'task_id.7', 'task_id.8', 'task_id.9', 'task_id.10', 'task_id.11', 'task_id.12', 'task_id.13', 'task_id.14', 'task_id.15', 'task_id.16', 'task_id.17', 'task_id.18', 'task_id.19', 'task_id.20', 'task_id.21', 'task_id.22', 'task_id.23', 'task_id.24', 'task_id.25', 'task_id.26', 'task_id.27', 'task_id.28', 'task_id.29', 'task_id.30', 'task_id.31', 'task_id.32', 'task_id.33', 'task_id.34', 'task_id.35', 'task_id.36', 'task_id.37', 'task_id.38', 'task_id.39', 'task_id.40', 'task_id.41', 'task_id.42', 'task_id.43', 'task_id.44', 'task_url.0', 'task_url.1', 'task_url.2', 'task_url.3', 'task_url.4', 'task_url.5', 'task_url.6', 'task_url.7', 'task_url.8', 'task_url.9', 'task_url.10', 'task_url.11', 'task_url.12', 'task_url.13', 'task_url.14', 'task_url.15', 'task_url.16', 'task_url.17', 'task_url.18', 'task_url.19', 'task_url.20', 'task_url.21', 'task_url.22', 'task_url.23', 'task_url.24', 'task_url.25', 'task_url.26', 'task_url.27', 'task_url.28', 'task_url.29', 'task_url.30', 'task_url.31', 'task_url.32', 'task_url.33', 'task_url.34', 'task_url.35', 'task_url.36', 'task_url.37', 'task_url.38', 'task_url.39', 'task_url.40', 'task_url.41', 'task_url.42', 'task_url.43', 'task_url.44', 'task_creation_date.0', 'task_creation_date.1', 'task_creation_date.2', 'task_creation_date.3', 'task_creation_date.4', 'task_creation_date.5', 'task_creation_date.6', 'task_creation_date.7', 'task_creation_date.8', 'task_creation_date.9', 'task_creation_date.10', 'task_creation_date.11', 'task_creation_date.12', 'task_creation_date.13', 'task_creation_date.14', 'task_creation_date.15', 'task_creation_date.16', 'task_creation_date.17', 'task_creation_date.18', 'task_creation_date.19', 'task_creation_date.20', 'task_creation_date.21', 'task_creation_date.22', 'task_creation_date.23', 'task_creation_date.24', 'task_creation_date.25', 'task_creation_date.26', 'task_creation_date.27', 'task_creation_date.28', 'task_creation_date.29', 'task_creation_date.30', 'task_creation_date.31', 'task_creation_date.32', 'task_creation_date.33', 'task_creation_date.34', 'task_creation_date.35', 'task_creation_date.36', 'task_creation_date.37', 'task_creation_date.38', 'task_creation_date.39', 'task_creation_date.40', 'task_creation_date.41', 'task_creation_date.42', 'task_creation_date.43', 'task_creation_date.44', 'filter_$', 'iat_exclude', 'o1', 'o2', 'o3', 'o4', 'o5', 'o6', 'o7', 'o8', 'o9', 'o10', 'o11', 'scalesorder', 'reciprocorder', 'diseaseforder', 'quoteorder', 'flagprimorder', 'sunkcostorder', 'anchorinorder', 'allowedforder', 'gamblerforder', 'moneypriorder', 'imaginedorder', 'iatorder']\n"
          ],
          "name": "stdout"
        }
      ]
    },
    {
      "cell_type": "markdown",
      "metadata": {
        "id": "HkxHgO0L6_sq",
        "colab_type": "text"
      },
      "source": [
        "206 full columns"
      ]
    },
    {
      "cell_type": "code",
      "metadata": {
        "id": "GgrZPQXVP8OF",
        "colab_type": "code",
        "colab": {}
      },
      "source": [
        "temp_full = data[full_cols]"
      ],
      "execution_count": 0,
      "outputs": []
    },
    {
      "cell_type": "code",
      "metadata": {
        "id": "p9Pw1rEhFSmN",
        "colab_type": "code",
        "outputId": "ab24c3e8-1d2b-409f-9d3f-e1d7ca9cf2a9",
        "colab": {
          "base_uri": "https://localhost:8080/",
          "height": 34
        }
      },
      "source": [
        "len(intervals)"
      ],
      "execution_count": 0,
      "outputs": [
        {
          "output_type": "execute_result",
          "data": {
            "text/plain": [
              "21"
            ]
          },
          "metadata": {
            "tags": []
          },
          "execution_count": 130
        }
      ]
    },
    {
      "cell_type": "code",
      "metadata": {
        "id": "xkTP5taHDIfs",
        "colab_type": "code",
        "outputId": "80963c62-8e47-4088-d5f2-f58811ca1765",
        "colab": {
          "base_uri": "https://localhost:8080/",
          "height": 621
        }
      },
      "source": [
        "x = data.nunique(dropna=True)\n",
        "unique_items =[]\n",
        "intervals = [ 10*i for i in range(21)]\n",
        "interval_list = [str(i) for i in intervals]\n",
        "\n",
        "for i in range(1, len(intervals)):\n",
        "    unique_items.append(len(x[(x > intervals[i-1]) & (x <= intervals[i])])) \n",
        "\n",
        "unique_items.append(len(x > intervals[-1]))\n",
        "plt.figure(figsize=(15, 10))\n",
        "plt.bar(interval_list,unique_items)\n",
        "plt.title('Unique Values Distribution')\n",
        "plt.xlabel('Range')\n",
        "plt.ylabel('Data points count')\n",
        "plt.show()"
      ],
      "execution_count": 0,
      "outputs": [
        {
          "output_type": "display_data",
          "data": {
            "image/png": "[encoded data removed]",
            "text/plain": [
              "<Figure size 1080x720 with 1 Axes>"
            ]
          },
          "metadata": {
            "tags": []
          }
        }
      ]
    },
    {
      "cell_type": "code",
      "metadata": {
        "id": "bhvw1VjvhuTX",
        "colab_type": "code",
        "colab": {}
      },
      "source": [
        "import numpy as np\n",
        "import matplotlib.pyplot as plt\n",
        "\n",
        "height = data.isna().sum()\n",
        "bar = data.columns\n",
        "plt.figure(figsize=(50,50))\n",
        "plt.bar(bar, height)\n",
        "plt.show()"
      ],
      "execution_count": 0,
      "outputs": []
    },
    {
      "cell_type": "code",
      "metadata": {
        "id": "GIeIgiAlvpyn",
        "colab_type": "code",
        "outputId": "48117e7c-84c7-4ea1-bfef-c556a8e5e1ef",
        "colab": {
          "base_uri": "https://localhost:8080/",
          "height": 596
        }
      },
      "source": [
        "unique_items =[]\n",
        "for i in data.columns:\n",
        "    unique_items.append(data[i].nunique)\n",
        "\n",
        "u1 = data.nunique()    \n",
        "plt.figure(figsize=(10,10))\n",
        "plt.bar(data.columns, u1)\n",
        "plt.show()"
      ],
      "execution_count": 0,
      "outputs": [
        {
          "output_type": "display_data",
          "data": {
            "image/png": "[encoded data removed]",
            "text/plain": [
              "<Figure size 720x720 with 1 Axes>"
            ]
          },
          "metadata": {
            "tags": []
          }
        }
      ]
    },
    {
      "cell_type": "markdown",
      "metadata": {
        "id": "1dzVHxk-IFMV",
        "colab_type": "text"
      },
      "source": [
        "# Test on 21 columns ( 20 full and 1 partial)"
      ]
    },
    {
      "cell_type": "code",
      "metadata": {
        "id": "BA7yTJy4Na_6",
        "colab_type": "code",
        "cellView": "both",
        "colab": {}
      },
      "source": [
        "\n",
        "temp1 = data[['referrer','sample','sunkgroup','gainlossgroup','anch1group','anch2group','anch3group','anch4group','gambfalgroup','scalesgroup', 'allowedforbiddenGroup', 'reciprocitygroup', 'quoteGroup','flagfilter', 'flagGroup', 'MoneyGroup', 'moneyfilter', 'ContactGroup', 'IATfilter','exprace']]"
      ],
      "execution_count": 0,
      "outputs": []
    },
    {
      "cell_type": "code",
      "metadata": {
        "id": "Uth73h-_3acw",
        "colab_type": "code",
        "outputId": "08bf3f65-4b12-49aa-fc06-0eca7f121aef",
        "cellView": "both",
        "colab": {
          "base_uri": "https://localhost:8080/",
          "height": 34
        }
      },
      "source": [
        "temp1.shape"
      ],
      "execution_count": 0,
      "outputs": [
        {
          "output_type": "execute_result",
          "data": {
            "text/plain": [
              "(6344, 20)"
            ]
          },
          "metadata": {
            "tags": []
          },
          "execution_count": 10
        }
      ]
    },
    {
      "cell_type": "code",
      "metadata": {
        "id": "1jIUBskdHgcI",
        "colab_type": "code",
        "cellView": "code",
        "colab": {}
      },
      "source": [
        "temp1_in = temp1['exprace']\n",
        "temp1_co = temp1.drop(['exprace'], axis=1)"
      ],
      "execution_count": 0,
      "outputs": []
    },
    {
      "cell_type": "code",
      "metadata": {
        "id": "ky1VjJsmKdBz",
        "colab_type": "code",
        "cellView": "code",
        "colab": {}
      },
      "source": [
        "import random\n",
        "\n",
        "prob_missing = 0.1\n",
        "temp1_incomplete = temp1.copy()\n",
        "for i in range(int(prob_missing * len(temp1))):\n",
        "    ix = random.randint(1,len(temp1)-1)\n",
        "    temp1_incomplete.loc[ix, 'IATfilter'] = np.nan\n",
        "    "
      ],
      "execution_count": 0,
      "outputs": []
    },
    {
      "cell_type": "code",
      "metadata": {
        "id": "z63-hAwIHvMK",
        "colab_type": "code",
        "cellView": "code",
        "colab": {}
      },
      "source": [
        "#MICE Implementation\n",
        "\n",
        "from fancyimpute import KNN, NuclearNormMinimization, SoftImpute, IterativeImputer, BiScaler\n",
        "#temp_filled = IterativeImputer().fit_transform(temp1)\n",
        "\n",
        "n_imputations = 5\n",
        "XY_completed = []\n",
        "for i in range(n_imputations):\n",
        "    imputer = IterativeImputer(n_iter=5, sample_posterior=True, random_state=i)\n",
        "    XY_completed.append(imputer.fit_transform(temp1_incomplete))\n",
        "\n",
        "XY_completed_mean = np.mean(XY_completed, 0)\n",
        "XY_completed_std = np.std(XY_completed, 0)"
      ],
      "execution_count": 0,
      "outputs": []
    },
    {
      "cell_type": "code",
      "metadata": {
        "id": "YPGKJbHYMTdP",
        "colab_type": "code",
        "outputId": "95b94e99-b014-4459-dd0d-00138a30efbf",
        "cellView": "code",
        "colab": {
          "base_uri": "https://localhost:8080/",
          "height": 34
        }
      },
      "source": [
        "temp1_incomplete['IATfilter'].unique()"
      ],
      "execution_count": 0,
      "outputs": [
        {
          "output_type": "execute_result",
          "data": {
            "text/plain": [
              "array([ 1., nan,  0.])"
            ]
          },
          "metadata": {
            "tags": []
          },
          "execution_count": 38
        }
      ]
    },
    {
      "cell_type": "code",
      "metadata": {
        "id": "TFLed348NnIL",
        "colab_type": "code",
        "cellView": "code",
        "colab": {}
      },
      "source": [
        "temp1['IATfilter']"
      ],
      "execution_count": 0,
      "outputs": []
    },
    {
      "cell_type": "code",
      "metadata": {
        "id": "MzBdEGrBJn_K",
        "colab_type": "code",
        "outputId": "872843f9-e9eb-41af-be83-4afbc9330c57",
        "cellView": "code",
        "colab": {
          "base_uri": "https://localhost:8080/",
          "height": 34
        }
      },
      "source": [
        "np.unique(temp_filled[-1])"
      ],
      "execution_count": 0,
      "outputs": [
        {
          "output_type": "execute_result",
          "data": {
            "text/plain": [
              "array([ 1.,  2.,  3., ..., 14., 15., 16.])"
            ]
          },
          "metadata": {
            "tags": []
          },
          "execution_count": 26
        }
      ]
    },
    {
      "cell_type": "code",
      "metadata": {
        "id": "jvWm6j3hJ7ct",
        "colab_type": "code",
        "outputId": "5ea57990-4fc5-4e9a-efee-063d60f5261f",
        "cellView": "code",
        "colab": {
          "base_uri": "https://localhost:8080/",
          "height": 51
        }
      },
      "source": [
        "temp1['exprace'].unique()"
      ],
      "execution_count": 0,
      "outputs": [
        {
          "output_type": "execute_result",
          "data": {
            "text/plain": [
              "array(['6', '10', '13', '11', '12', nan, '14', '16', '8', '7', '5', '9',\n",
              "       '2', '3', '15', '1', 6.0, 10.0, 2.0, 5.0, 3.0], dtype=object)"
            ]
          },
          "metadata": {
            "tags": []
          },
          "execution_count": 27
        }
      ]
    },
    {
      "cell_type": "code",
      "metadata": {
        "id": "g4o5Eij55Vxk",
        "colab_type": "code",
        "outputId": "e0fdbaca-445e-4ad6-8aff-6f33e6466890",
        "cellView": "code",
        "colab": {
          "base_uri": "https://localhost:8080/",
          "height": 207
        }
      },
      "source": [
        "for i in range(len(temp1)):\n",
        "    if pd.isnull(temp1.loc[i, 'exprace']) != True:\n",
        "        temp1.loc[i, 'exprace'] = int(temp1.loc[i, 'exprace']) "
      ],
      "execution_count": 0,
      "outputs": [
        {
          "output_type": "stream",
          "text": [
            "/usr/local/lib/python3.6/dist-packages/pandas/core/indexing.py:190: SettingWithCopyWarning: \n",
            "A value is trying to be set on a copy of a slice from a DataFrame\n",
            "\n",
            "See the caveats in the documentation: http://pandas.pydata.org/pandas-docs/stable/indexing.html#indexing-view-versus-copy\n",
            "  self._setitem_with_indexer(indexer, value)\n",
            "/usr/local/lib/python3.6/dist-packages/ipykernel_launcher.py:3: SettingWithCopyWarning: \n",
            "A value is trying to be set on a copy of a slice from a DataFrame\n",
            "\n",
            "See the caveats in the documentation: http://pandas.pydata.org/pandas-docs/stable/indexing.html#indexing-view-versus-copy\n",
            "  This is separate from the ipykernel package so we can avoid doing imports until\n"
          ],
          "name": "stderr"
        }
      ]
    },
    {
      "cell_type": "code",
      "metadata": {
        "id": "syxL7S9o2w3L",
        "colab_type": "code",
        "cellView": "code",
        "colab": {}
      },
      "source": [
        "#@title\n",
        "import random\n",
        "import pandas as pd\n",
        "import numpy as np\n",
        "import matplotlib.pylab as plt\n",
        "import seaborn as sns\n",
        "from keras.utils import np_utils\n",
        "from sklearn.preprocessing import LabelEncoder\n",
        "\n",
        "from keras.objectives import mse\n",
        "from keras.models import Sequential\n",
        "from keras.layers.core import Dropout, Dense\n",
        "from keras.regularizers import l1_l2\n",
        "\n",
        "from collections import defaultdict"
      ],
      "execution_count": 0,
      "outputs": []
    },
    {
      "cell_type": "code",
      "metadata": {
        "id": "yR1nkLod2qg4",
        "colab_type": "code",
        "cellView": "code",
        "colab": {}
      },
      "source": [
        "#@title\n",
        "def make_reconstruction_loss(n_features):\n",
        "\n",
        "    def reconstruction_loss(input_and_mask, y_pred):\n",
        "        X_values = input_and_mask[:, :n_features]\n",
        "        #X_values.name = \"X_values1\"\n",
        "\n",
        "        missing_mask = input_and_mask[:, n_features:]\n",
        "        #missing_mask.name = \"missing_mask1\"\n",
        "        observed_mask = 1 - missing_mask\n",
        "        #observed_mask.name = \"observed_mask1\"\n",
        "\n",
        "        X_values_observed = X_values * observed_mask\n",
        "        #X_values_observed.name = \"X_values_observed1\"\n",
        "\n",
        "        pred_observed = y_pred * observed_mask\n",
        "        #pred_observed.name = \"y_pred_observed1\"\n",
        "\n",
        "        return mse(y_true=X_values_observed, y_pred=pred_observed)\n",
        "    return reconstruction_loss"
      ],
      "execution_count": 0,
      "outputs": []
    },
    {
      "cell_type": "code",
      "metadata": {
        "id": "HtHtgwAr2uRY",
        "colab_type": "code",
        "cellView": "code",
        "colab": {}
      },
      "source": [
        "#@title\n",
        "def masked_mae(X_true, X_pred, mask):\n",
        "    masked_diff = X_true[mask] - X_pred[mask]\n",
        "    return np.mean(np.abs(masked_diff))"
      ],
      "execution_count": 0,
      "outputs": []
    },
    {
      "cell_type": "code",
      "metadata": {
        "id": "lgT4G1Olqi3X",
        "colab_type": "code",
        "outputId": "11a639ba-0d14-4cb7-bdde-1eb536f9f653",
        "cellView": "code",
        "colab": {
          "base_uri": "https://localhost:8080/",
          "height": 119
        }
      },
      "source": [
        "#@title\n",
        "from sklearn import preprocessing\n",
        "le = preprocessing.LabelEncoder()\n",
        "for i in temp1.columns[:-1]:\n",
        "    temp1[i] = le.fit_transform(temp1[i]).astype(int)"
      ],
      "execution_count": 0,
      "outputs": [
        {
          "output_type": "stream",
          "text": [
            "/usr/local/lib/python3.6/dist-packages/ipykernel_launcher.py:4: SettingWithCopyWarning: \n",
            "A value is trying to be set on a copy of a slice from a DataFrame.\n",
            "Try using .loc[row_indexer,col_indexer] = value instead\n",
            "\n",
            "See the caveats in the documentation: http://pandas.pydata.org/pandas-docs/stable/indexing.html#indexing-view-versus-copy\n",
            "  after removing the cwd from sys.path.\n"
          ],
          "name": "stderr"
        }
      ]
    },
    {
      "cell_type": "code",
      "metadata": {
        "id": "-RIwB20z3olz",
        "colab_type": "code",
        "outputId": "e536788f-10e3-48a5-e002-a9b37bab5b05",
        "cellView": "code",
        "colab": {
          "base_uri": "https://localhost:8080/",
          "height": 374
        }
      },
      "source": [
        "#@title\n",
        "temp1.isna().sum()"
      ],
      "execution_count": 0,
      "outputs": [
        {
          "output_type": "execute_result",
          "data": {
            "text/plain": [
              "referrer                    0\n",
              "sample                      0\n",
              "sunkgroup                   0\n",
              "gainlossgroup               0\n",
              "anch1group                  0\n",
              "anch2group                  0\n",
              "anch3group                  0\n",
              "anch4group                  0\n",
              "gambfalgroup                0\n",
              "scalesgroup                 0\n",
              "allowedforbiddenGroup       0\n",
              "reciprocitygroup            0\n",
              "quoteGroup                  0\n",
              "flagfilter                  0\n",
              "flagGroup                   0\n",
              "MoneyGroup                  0\n",
              "moneyfilter                 0\n",
              "ContactGroup                0\n",
              "IATfilter                   0\n",
              "exprace                  3399\n",
              "dtype: int64"
            ]
          },
          "metadata": {
            "tags": []
          },
          "execution_count": 83
        }
      ]
    },
    {
      "cell_type": "code",
      "metadata": {
        "id": "nQsgDWV97vja",
        "colab_type": "code",
        "cellView": "code",
        "colab": {}
      },
      "source": [
        "#@title\n",
        "for i in temp1_incomplete.columns:\n",
        "    print(temp1_incomplete[i].unique())"
      ],
      "execution_count": 0,
      "outputs": []
    },
    {
      "cell_type": "code",
      "metadata": {
        "id": "ln4eaRhf5bKi",
        "colab_type": "code",
        "cellView": "code",
        "colab": {}
      },
      "source": [
        "#@title\n",
        "#temp1_missing = temp1['exprace']\n",
        "#temp1 = temp1.drop(['exprace'], axis=1)\n",
        "\n",
        "prob_missing = 0.3\n",
        "temp1_incomplete = temp1.copy()\n",
        "ix = [(row, col) for row in range(temp1.shape[0]) for col in range(temp1.shape[1])]\n",
        "for row, col in random.sample(ix, int(round(prob_missing * len(ix)))):\n",
        "    #if np.isnan(temp1_incomplete.iat[row, col]):\n",
        "    temp1_incomplete.iat[row, col] = 99\n",
        "        #temp1_incomplete.iat[row, col] = np.nan"
      ],
      "execution_count": 0,
      "outputs": []
    },
    {
      "cell_type": "code",
      "metadata": {
        "id": "xL1tYFlK93Kx",
        "colab_type": "code",
        "cellView": "code",
        "colab": {}
      },
      "source": [
        "#@title\n",
        "missing_encoded = pd.get_dummies(temp1_incomplete)"
      ],
      "execution_count": 0,
      "outputs": []
    },
    {
      "cell_type": "code",
      "metadata": {
        "id": "NzIDgOh49kX7",
        "colab_type": "code",
        "cellView": "code",
        "colab": {}
      },
      "source": [
        "#@title\n",
        "for col in temp1.columns:\n",
        "    missing_cols = missing_encoded.columns.str.startswith(str(col) + \"_\")\n",
        "    missing_encoded.loc[temp1_incomplete[col].isnull(), missing_cols] = np.nan"
      ],
      "execution_count": 0,
      "outputs": []
    },
    {
      "cell_type": "code",
      "metadata": {
        "id": "Tz1-pQUE4Eq0",
        "colab_type": "code",
        "outputId": "836815ae-d107-459f-d1fc-5ded7a3abfda",
        "cellView": "code",
        "colab": {
          "base_uri": "https://localhost:8080/",
          "height": 207
        }
      },
      "source": [
        "#@title\n",
        "imputer = Autoencoder(missing_encoded.values)\n",
        "complete_encoded = imputer.train(train_epochs=300, batch_size=256)"
      ],
      "execution_count": 0,
      "outputs": [
        {
          "output_type": "stream",
          "text": [
            "/usr/local/lib/python3.6/dist-packages/ipykernel_launcher.py:43: UserWarning: Update your `Dense` call to the Keras 2 API: `Dense(976, input_dim=244, activation=\"relu\", kernel_initializer=\"glorot_normal\", kernel_regularizer=<keras.reg...)`\n",
            "/usr/local/lib/python3.6/dist-packages/ipykernel_launcher.py:51: UserWarning: Update your `Dense` call to the Keras 2 API: `Dense(244, activation=\"relu\", kernel_initializer=\"glorot_normal\", kernel_regularizer=<keras.reg...)`\n",
            "/usr/local/lib/python3.6/dist-packages/ipykernel_launcher.py:51: UserWarning: Update your `Dense` call to the Keras 2 API: `Dense(61, activation=\"relu\", kernel_initializer=\"glorot_normal\", kernel_regularizer=<keras.reg...)`\n",
            "/usr/local/lib/python3.6/dist-packages/ipykernel_launcher.py:58: UserWarning: Update your `Dense` call to the Keras 2 API: `Dense(122, activation=\"sigmoid\", kernel_initializer=\"glorot_normal\", kernel_regularizer=<keras.reg...)`\n"
          ],
          "name": "stderr"
        },
        {
          "output_type": "stream",
          "text": [
            "observed mae: 0.7246765597287095\n",
            "observed mae: 0.6141907974627957\n",
            "observed mae: 0.5789146418585908\n",
            "observed mae: 0.5586699621368656\n",
            "observed mae: 0.550857759895015\n",
            "observed mae: 0.5466349946974041\n"
          ],
          "name": "stdout"
        }
      ]
    },
    {
      "cell_type": "markdown",
      "metadata": {
        "id": "i7Jwr2pQGgkI",
        "colab_type": "text"
      },
      "source": [
        "#Classification approach using CART - Test"
      ]
    },
    {
      "cell_type": "code",
      "metadata": {
        "id": "8H646esNpvJS",
        "colab_type": "code",
        "colab": {}
      },
      "source": [
        "X_train = pd.DataFrame(columns = temp1.columns)\n",
        "X_test = pd.DataFrame(columns = temp1.columns)\n",
        "for i in range (len(temp1)):\n",
        "    if pd.isnull(temp1.loc[i, 'exprace']) != True:\n",
        "        X_train = X_train.append(temp1.loc[i])\n",
        "    else:\n",
        "        X_test = X_test.append(temp1.loc[i])"
      ],
      "execution_count": 0,
      "outputs": []
    },
    {
      "cell_type": "code",
      "metadata": {
        "id": "s0k84UDGdfz0",
        "colab_type": "code",
        "colab": {}
      },
      "source": [
        "X_train = X_train.reset_index(drop=True)\n",
        "X_test = X_test.reset_index(drop=True)"
      ],
      "execution_count": 0,
      "outputs": []
    },
    {
      "cell_type": "code",
      "metadata": {
        "id": "QavWT-qBzvlE",
        "colab_type": "code",
        "colab": {}
      },
      "source": [
        "Y_train = X_train['exprace']\n",
        "Y_test = X_test['exprace']"
      ],
      "execution_count": 0,
      "outputs": []
    },
    {
      "cell_type": "code",
      "metadata": {
        "id": "Wuy2ycN8bFX1",
        "colab_type": "code",
        "outputId": "4d88d997-7c90-44a8-fe64-e6e28be7738c",
        "colab": {
          "base_uri": "https://localhost:8080/",
          "height": 34
        }
      },
      "source": [
        "X_train.index"
      ],
      "execution_count": 0,
      "outputs": [
        {
          "output_type": "execute_result",
          "data": {
            "text/plain": [
              "RangeIndex(start=0, stop=2945, step=1)"
            ]
          },
          "metadata": {
            "tags": []
          },
          "execution_count": 26
        }
      ]
    },
    {
      "cell_type": "code",
      "metadata": {
        "id": "jsH-y6wKe9xM",
        "colab_type": "code",
        "outputId": "f9056efa-e78d-479d-f0eb-4652fa741aaa",
        "colab": {
          "base_uri": "https://localhost:8080/",
          "height": 51
        }
      },
      "source": [
        "temp1.exprace.unique()"
      ],
      "execution_count": 0,
      "outputs": [
        {
          "output_type": "execute_result",
          "data": {
            "text/plain": [
              "array([6, 10, 13, 11, 12, nan, 14, 16, 8, 7, 5, 9, 2, 3, 15, 1],\n",
              "      dtype=object)"
            ]
          },
          "metadata": {
            "tags": []
          },
          "execution_count": 28
        }
      ]
    },
    {
      "cell_type": "code",
      "metadata": {
        "id": "Rhm3mDS9M21P",
        "colab_type": "code",
        "outputId": "e5f7c032-91e4-4e74-cd38-8c22e951b6ab",
        "colab": {
          "base_uri": "https://localhost:8080/",
          "height": 221
        }
      },
      "source": [
        "X_train.dtypes"
      ],
      "execution_count": 0,
      "outputs": [
        {
          "output_type": "execute_result",
          "data": {
            "text/plain": [
              "referrer         object\n",
              "sample           object\n",
              "sunkgroup        object\n",
              "gainlossgroup    object\n",
              "anch1group       object\n",
              "anch2group       object\n",
              "anch3group       object\n",
              "anch4group       object\n",
              "gambfalgroup     object\n",
              "scalesgroup      object\n",
              "exprace          object\n",
              "dtype: object"
            ]
          },
          "metadata": {
            "tags": []
          },
          "execution_count": 21
        }
      ]
    },
    {
      "cell_type": "code",
      "metadata": {
        "id": "A2OEKTtkTno2",
        "colab_type": "code",
        "colab": {}
      },
      "source": [
        "Y_train = Y_train.astype(str).astype(int)"
      ],
      "execution_count": 0,
      "outputs": []
    },
    {
      "cell_type": "code",
      "metadata": {
        "id": "97gKyUWMJtts",
        "colab_type": "code",
        "colab": {}
      },
      "source": [
        "class Cart1(object):\n",
        "\n",
        "    def __init__(self, _max_depth, _min_splits):\n",
        "        self.max_depth = _max_depth\n",
        "        self.min_splits = _min_splits\n",
        "\n",
        "    def fit(self, _feature, _label):\n",
        "        self.feature = _feature\n",
        "        self.label = _label\n",
        "        self.train_data = np.column_stack((self.feature,self.label))\n",
        "        self.build_tree()\n",
        "\n",
        "\n",
        "    def compute_gini_similarity(self, groups, class_labels):\n",
        "        num_sample = sum([len(group) for group in groups])\n",
        "        gini_score = 0\n",
        "\n",
        "        for group in groups:\n",
        "            size = float(len(group))\n",
        "\n",
        "            if size == 0:\n",
        "                continue\n",
        "            score = 0.0\n",
        "            for label in class_labels:\n",
        "                porportion = (group[:,-1] == label).sum() / size\n",
        "                score += porportion * porportion\n",
        "            gini_score += (1.0 - score) * (size/num_sample)\n",
        "\n",
        "        return gini_score\n",
        "\n",
        "    def terminal_node(self, _group):\n",
        "        class_labels, count = np.unique(_group[:,-1], return_counts= True)\n",
        "        return class_labels[np.argmax(count)]\n",
        "\n",
        "    def split(self, index, val, data):\n",
        "        data_left = np.array([]).reshape(0,self.train_data.shape[1])\n",
        "        data_right = np.array([]).reshape(0, self.train_data.shape[1])\n",
        "\n",
        "        for row in data:\n",
        "            if row[index] <= val :\n",
        "                data_left = np.vstack((data_left,row))\n",
        "\n",
        "            if row[index] > val:\n",
        "                data_right = np.vstack((data_right, row))\n",
        "\n",
        "        return data_left, data_right\n",
        "\n",
        "    def best_split(self, data):\n",
        "        class_labels = np.unique(data[:,-1])\n",
        "        best_index = 999\n",
        "        best_val = 999\n",
        "        best_score = 999\n",
        "        best_groups = None\n",
        "\n",
        "        for idx in range(data.shape[1]-1):\n",
        "            for row in data:\n",
        "                groups = self.split(idx, row[idx], data)\n",
        "                gini_score = self.compute_gini_similarity(groups,class_labels)\n",
        "\n",
        "                if gini_score < best_score:\n",
        "                    best_index = idx\n",
        "                    best_val = row[idx]\n",
        "                    best_score = gini_score\n",
        "                    best_groups = groups\n",
        "        result = {}\n",
        "        result['index'] = best_index\n",
        "        result['val'] = best_val\n",
        "        result['groups'] = best_groups\n",
        "        return result\n",
        "\n",
        "\n",
        "    def split_branch(self, node, depth):\n",
        "        left_node , right_node = node['groups']\n",
        "        del(node['groups'])\n",
        "\n",
        "        if not isinstance(left_node,np.ndarray) or not isinstance(right_node,np.ndarray):\n",
        "            node['left'] = self.terminal_node(left_node + right_node)\n",
        "            node['right'] = self.terminal_node(left_node + right_node)\n",
        "            return\n",
        "\n",
        "        if depth >= self.max_depth:\n",
        "            node['left'] = self.terminal_node(left_node)\n",
        "            node['right'] = self.terminal_node(right_node)\n",
        "            return\n",
        "\n",
        "        if len(left_node) <= self.min_splits:\n",
        "            node['left'] = self.terminal_node(left_node)\n",
        "        else:\n",
        "            node['left'] = self.best_split(left_node)\n",
        "            self.split_branch(node['left'],depth + 1)\n",
        "\n",
        "\n",
        "        if len(right_node) <= self.min_splits:\n",
        "            node['right'] = self.terminal_node(right_node)\n",
        "        else:\n",
        "            node['right'] = self.best_split(right_node)\n",
        "            self.split_branch(node['right'],depth + 1)\n",
        "\n",
        "    def build_tree(self):\n",
        "        self.root = self.best_split(self.train_data)\n",
        "        self.split_branch(self.root, 1)\n",
        "        return self.root\n",
        "\n",
        "    def _predict(self, node, row):\n",
        "        if row[node['index']] < node['val']:\n",
        "            if isinstance(node['left'], dict):\n",
        "                return self._predict(node['left'], row)\n",
        "            else:\n",
        "                return node['left']\n",
        "\n",
        "        else:\n",
        "            if isinstance(node['right'],dict):\n",
        "                return self._predict(node['right'],row)\n",
        "            else:\n",
        "                return node['right']\n",
        "\n",
        "    def predict(self, test_data):\n",
        "        self.predicted_label = np.array([])\n",
        "        for idx in test_data:\n",
        "            self.predicted_label = np.append(self.predicted_label, self._predict(self.root,idx))\n",
        "\n",
        "        return self.predicted_label"
      ],
      "execution_count": 0,
      "outputs": []
    },
    {
      "cell_type": "code",
      "metadata": {
        "id": "zcA5fOvT1Cx_",
        "colab_type": "code",
        "colab": {}
      },
      "source": [
        "from sklearn.tree import DecisionTreeClassifier\n",
        "clf = Cart1()\n",
        "clf.fit(X_train.loc[:, X_train.columns != 'exprace'], Y_train)\n",
        "clf\n",
        "clf.predict(X_train.loc[:, X_test.columns != 'exprace'])"
      ],
      "execution_count": 0,
      "outputs": []
    }
  ]
}