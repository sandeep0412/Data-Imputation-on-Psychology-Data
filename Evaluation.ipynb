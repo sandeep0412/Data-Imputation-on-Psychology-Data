{
  "nbformat": 4,
  "nbformat_minor": 0,
  "metadata": {
    "colab": {
      "name": "Evaluation.ipynb",
      "version": "0.3.2",
      "provenance": [],
      "collapsed_sections": [],
      "include_colab_link": true
    },
    "kernelspec": {
      "name": "python3",
      "display_name": "Python 3"
    }
  },
  "cells": [
    {
      "cell_type": "markdown",
      "metadata": {
        "id": "view-in-github",
        "colab_type": "text"
      },
      "source": [
        "<a href=\"https://colab.research.google.com/github/sandeep0412/Data-Imputation-on-Psychology-Data/blob/master/Evaluation.ipynb\" target=\"_parent\"><img src=\"https://colab.research.google.com/assets/colab-badge.svg\" alt=\"Open In Colab\"/></a>"
      ]
    },
    {
      "cell_type": "code",
      "metadata": {
        "id": "A41KpKkIf0As",
        "colab_type": "code",
        "outputId": "b276ced1-331a-4445-c180-bcd442166d5d",
        "colab": {
          "base_uri": "https://localhost:8080/",
          "height": 153
        }
      },
      "source": [
        "!pip3 install PTable"
      ],
      "execution_count": 0,
      "outputs": [
        {
          "output_type": "stream",
          "text": [
            "Collecting PTable\n",
            "  Downloading https://files.pythonhosted.org/packages/ab/b3/b54301811173ca94119eb474634f120a49cd370f257d1aae5a4abaf12729/PTable-0.9.2.tar.gz\n",
            "Building wheels for collected packages: PTable\n",
            "  Building wheel for PTable (setup.py) ... \u001b[?25l\u001b[?25hdone\n",
            "  Stored in directory: /root/.cache/pip/wheels/22/cc/2e/55980bfe86393df3e9896146a01f6802978d09d7ebcba5ea56\n",
            "Successfully built PTable\n",
            "Installing collected packages: PTable\n",
            "Successfully installed PTable-0.9.2\n"
          ],
          "name": "stdout"
        }
      ]
    },
    {
      "cell_type": "code",
      "metadata": {
        "id": "AJSIpFOsQLcX",
        "colab_type": "code",
        "outputId": "700654c4-d345-4941-fbd7-77116562626a",
        "colab": {
          "base_uri": "https://localhost:8080/",
          "height": 34
        }
      },
      "source": [
        "# Load the Drive helper and mount\n",
        "from google.colab import drive\n",
        "# This will prompt for authorization.\n",
        "drive.mount('/content/drive')"
      ],
      "execution_count": 0,
      "outputs": [
        {
          "output_type": "stream",
          "text": [
            "Drive already mounted at /content/drive; to attempt to forcibly remount, call drive.mount(\"/content/drive\", force_remount=True).\n"
          ],
          "name": "stdout"
        }
      ]
    },
    {
      "cell_type": "code",
      "metadata": {
        "id": "KA_m_IueHM8i",
        "colab_type": "code",
        "colab": {}
      },
      "source": [
        "import numpy as np\n",
        "import pandas as pd\n",
        "from prettytable import PrettyTable"
      ],
      "execution_count": 0,
      "outputs": []
    },
    {
      "cell_type": "code",
      "metadata": {
        "id": "GfOWlaZlLVlG",
        "colab_type": "code",
        "colab": {}
      },
      "source": [
        "data_num=pd.read_csv(\"/content/drive/My Drive/data_num.csv\",encoding='unicode_escape')\n",
        "num_samples, column_size = data_num.shape"
      ],
      "execution_count": 0,
      "outputs": []
    },
    {
      "cell_type": "code",
      "metadata": {
        "id": "fTGeimm3A_6a",
        "colab_type": "code",
        "colab": {}
      },
      "source": [
        "data_num"
      ],
      "execution_count": 0,
      "outputs": []
    },
    {
      "cell_type": "code",
      "metadata": {
        "id": "2k73lcANjwHE",
        "colab_type": "code",
        "outputId": "e92890f7-121e-4268-a4f7-b9352fcdf90f",
        "colab": {
          "base_uri": "https://localhost:8080/",
          "height": 1003
        }
      },
      "source": [
        "x = data_num.isna().sum()\n",
        "x"
      ],
      "execution_count": 0,
      "outputs": [
        {
          "output_type": "execute_result",
          "data": {
            "text/plain": [
              "gambfalDV                  402\n",
              "numparticipants_actual    6125\n",
              "numparticipants           3609\n",
              "exprace                   3399\n",
              "age                         16\n",
              "sunkDV                      14\n",
              "anchoring1                 982\n",
              "anchoring2                1060\n",
              "anchoring3                 717\n",
              "anchoring4                 735\n",
              "Ranchori                   982\n",
              "RAN001                    1060\n",
              "RAN002                     717\n",
              "RAN003                     735\n",
              "Ranch1                     982\n",
              "Ranch2                    1060\n",
              "Ranch3                     717\n",
              "Ranch4                     735\n",
              "flagdv                       3\n",
              "Sysjust                     11\n",
              "Imagineddv                   8\n",
              "IATexpart                    5\n",
              "IATexpmath                   3\n",
              "IATexp.overall               3\n",
              "anchoring1a               3744\n",
              "anchoring1b               3582\n",
              "anchoring2a               3758\n",
              "anchoring2b               3646\n",
              "anchoring3a               3481\n",
              "anchoring3b               3580\n",
              "anchoring4a               3668\n",
              "anchoring4b               3411\n",
              "d_donotuse                 454\n",
              "gamblerfallacya           3367\n",
              "gamblerfallacyb           3379\n",
              "omdimc3rt                    1\n",
              "omdimc3trt                   1\n",
              "previous_session_id          0\n",
              "anchoring1akm             5857\n",
              "anchoring1bkm             5896\n",
              "anchoring3ameter          5836\n",
              "anchoring3bmeter          5908\n",
              "meanlatency                 44\n",
              "meanerror                   44\n",
              "block2_meanerror            89\n",
              "block3_meanerror            97\n",
              "block5_meanerror            96\n",
              "block6_meanerror           100\n",
              "lat11                      103\n",
              "lat12                       82\n",
              "lat21                      110\n",
              "lat22                       87\n",
              "sd1                         94\n",
              "sd2                         86\n",
              "d_art1                     124\n",
              "d_art2                     131\n",
              "d_art                      159\n",
              "dtype: int64"
            ]
          },
          "metadata": {
            "tags": []
          },
          "execution_count": 6
        }
      ]
    },
    {
      "cell_type": "code",
      "metadata": {
        "id": "GVUpP-I9TCm6",
        "colab_type": "code",
        "outputId": "3688eda8-5a56-42b6-b65d-20e0867688ca",
        "colab": {
          "base_uri": "https://localhost:8080/",
          "height": 238
        }
      },
      "source": [
        "x = x.sort_values()\n",
        "x = x.to_frame()\n",
        "columns_sorted = x.index.values\n",
        "columns_sorted"
      ],
      "execution_count": 0,
      "outputs": [
        {
          "output_type": "execute_result",
          "data": {
            "text/plain": [
              "array(['previous_session_id', 'omdimc3trt', 'omdimc3rt', 'IATexpmath',\n",
              "       'flagdv', 'IATexp.overall', 'IATexpart', 'Imagineddv', 'Sysjust',\n",
              "       'sunkDV', 'age', 'meanerror', 'meanlatency', 'lat12', 'sd2',\n",
              "       'lat22', 'block2_meanerror', 'sd1', 'block5_meanerror',\n",
              "       'block3_meanerror', 'block6_meanerror', 'lat11', 'lat21', 'd_art1',\n",
              "       'd_art2', 'd_art', 'gambfalDV', 'd_donotuse', 'Ranch3', 'RAN002',\n",
              "       'anchoring3', 'RAN003', 'anchoring4', 'Ranch4', 'Ranch1',\n",
              "       'anchoring1', 'Ranchori', 'RAN001', 'anchoring2', 'Ranch2',\n",
              "       'gamblerfallacya', 'gamblerfallacyb', 'exprace', 'anchoring4b',\n",
              "       'anchoring3a', 'anchoring3b', 'anchoring1b', 'numparticipants',\n",
              "       'anchoring2b', 'anchoring4a', 'anchoring1a', 'anchoring2a',\n",
              "       'anchoring3ameter', 'anchoring1akm', 'anchoring1bkm',\n",
              "       'anchoring3bmeter', 'numparticipants_actual'], dtype=object)"
            ]
          },
          "metadata": {
            "tags": []
          },
          "execution_count": 7
        }
      ]
    },
    {
      "cell_type": "code",
      "metadata": {
        "id": "6hyZOh8WnB-0",
        "colab_type": "code",
        "outputId": "dc882291-41fd-4f1e-c7a3-248e79bc4ed4",
        "colab": {
          "base_uri": "https://localhost:8080/",
          "height": 34
        }
      },
      "source": [
        "type(list(columns_sorted))"
      ],
      "execution_count": 0,
      "outputs": [
        {
          "output_type": "execute_result",
          "data": {
            "text/plain": [
              "list"
            ]
          },
          "metadata": {
            "tags": []
          },
          "execution_count": 17
        }
      ]
    },
    {
      "cell_type": "code",
      "metadata": {
        "id": "oJovOqnyVyGN",
        "colab_type": "code",
        "colab": {}
      },
      "source": [
        "data_num_ordered = data_num.filter(columns_sorted, axis=1)\n",
        "data_num_ordered"
      ],
      "execution_count": 0,
      "outputs": []
    },
    {
      "cell_type": "code",
      "metadata": {
        "id": "0PElmAcsk4N9",
        "colab_type": "code",
        "colab": {}
      },
      "source": [
        "#Numerical Values\n",
        "def standardize_col(col):\n",
        "    return (col - col.min()) * 1.0 / (col.max() - col.min())\n",
        "\n",
        "for col in data_num.columns:\n",
        "    data_num[col] = standardize_col(data_num[col])"
      ],
      "execution_count": 0,
      "outputs": []
    },
    {
      "cell_type": "code",
      "metadata": {
        "id": "u12PVQlRdcng",
        "colab_type": "code",
        "outputId": "5b7b7ce9-067c-4452-dffd-81edd9927f5c",
        "colab": {
          "base_uri": "https://localhost:8080/",
          "height": 34
        }
      },
      "source": [
        "data_num['omdimc3trt'][2722]"
      ],
      "execution_count": 0,
      "outputs": [
        {
          "output_type": "execute_result",
          "data": {
            "text/plain": [
              "0.012046206336967917"
            ]
          },
          "metadata": {
            "tags": []
          },
          "execution_count": 36
        }
      ]
    },
    {
      "cell_type": "code",
      "metadata": {
        "id": "RT6_XdQ_a_zG",
        "colab_type": "code",
        "colab": {}
      },
      "source": [
        "data_num_ordered.isna().sum()"
      ],
      "execution_count": 0,
      "outputs": []
    },
    {
      "cell_type": "code",
      "metadata": {
        "id": "jHfg_DqqaT1g",
        "colab_type": "code",
        "colab": {}
      },
      "source": [
        "col_partial = [ 'omdimc3trt', 'omdimc3rt', 'IATexpmath',\n",
        "       'flagdv', 'IATexp.overall', 'IATexpart', 'Imagineddv', 'Sysjust',\n",
        "       'sunkDV', 'age', 'meanerror', 'meanlatency', 'lat12', 'sd2',\n",
        "       'lat22', 'block2_meanerror', 'sd1', 'block5_meanerror',\n",
        "       'block3_meanerror', 'block6_meanerror', 'lat11', 'lat21', 'd_art1',\n",
        "       'd_art2', 'd_art', 'gambfalDV', 'd_donotuse', 'Ranch3', 'RAN002',\n",
        "       'anchoring3', 'RAN003', 'anchoring4', 'Ranch4', 'Ranch1',\n",
        "       'anchoring1', 'Ranchori', 'RAN001', 'anchoring2', 'Ranch2',\n",
        "       'gamblerfallacya', 'gamblerfallacyb', 'exprace', 'anchoring4b',\n",
        "       'anchoring3a', 'anchoring3b', 'anchoring1b', 'numparticipants',\n",
        "       'anchoring2b', 'anchoring4a', 'anchoring1a', 'anchoring2a',\n",
        "       'anchoring3ameter', 'anchoring1akm', 'anchoring1bkm',\n",
        "       'anchoring3bmeter', 'numparticipants_actual']"
      ],
      "execution_count": 0,
      "outputs": []
    },
    {
      "cell_type": "code",
      "metadata": {
        "id": "JbcBu9fTavNE",
        "colab_type": "code",
        "outputId": "d28ead70-b82d-4738-e6f2-3f80355cc865",
        "colab": {
          "base_uri": "https://localhost:8080/",
          "height": 170
        }
      },
      "source": [
        "Z = data_num['previous_session_id'].as_matrix().reshape(-1,1)\n",
        "Z"
      ],
      "execution_count": 0,
      "outputs": [
        {
          "output_type": "stream",
          "text": [
            "/usr/local/lib/python3.6/dist-packages/ipykernel_launcher.py:1: FutureWarning: Method .as_matrix will be removed in a future version. Use .values instead.\n",
            "  \"\"\"Entry point for launching an IPython kernel.\n"
          ],
          "name": "stderr"
        },
        {
          "output_type": "execute_result",
          "data": {
            "text/plain": [
              "array([[0.],\n",
              "       [0.],\n",
              "       [0.],\n",
              "       ...,\n",
              "       [0.],\n",
              "       [0.],\n",
              "       [0.]])"
            ]
          },
          "metadata": {
            "tags": []
          },
          "execution_count": 30
        }
      ]
    },
    {
      "cell_type": "code",
      "metadata": {
        "id": "0WufDF0TCUOx",
        "colab_type": "code",
        "outputId": "6cfadc03-fcf9-4c99-913a-00bdb1c5c64b",
        "colab": {
          "base_uri": "https://localhost:8080/",
          "height": 34
        }
      },
      "source": [
        "Z.shape"
      ],
      "execution_count": 0,
      "outputs": [
        {
          "output_type": "execute_result",
          "data": {
            "text/plain": [
              "(6344, 1)"
            ]
          },
          "metadata": {
            "tags": []
          },
          "execution_count": 12
        }
      ]
    },
    {
      "cell_type": "code",
      "metadata": {
        "id": "q8w4c3o6Z4cc",
        "colab_type": "code",
        "outputId": "2bf7c1ff-cd75-4c01-a648-fb0bde485e25",
        "colab": {
          "base_uri": "https://localhost:8080/",
          "height": 2893
        }
      },
      "source": [
        "from sklearn import tree\n",
        "\n",
        "indexes_dict = {}\n",
        "\n",
        "for col in col_partial:\n",
        "#   print(col)\n",
        "  y  = data_num[col]\n",
        "#   print(type(y))\n",
        "  pos = list(y[y.isnull()].index)\n",
        "#   print(pos)\n",
        "  indexes_dict[col] = pos\n",
        "  \n",
        "  X_train = np.delete(Z, pos, axis=0)\n",
        "  X_test = Z[pos, :]\n",
        "  y_train = (y.drop(y.index[pos])).as_matrix().reshape(Z.shape[0]-len(pos),1)\n",
        "\n",
        "  y_final = y.as_matrix().reshape(Z.shape[0],1)\n",
        "  \n",
        "#   print(y.as_matrix().reshape(Z.shape[0],1)[pos[0]])\n",
        "#   X_test = Z.loc[pos].as_matrix()#.reshape(1,-1)\n",
        "#   y_train = (y.drop(y.index[pos])).as_matrix(columns = 1)\n",
        "#   X_train = (Z.drop(Z.index[pos])).as_matrix()\n",
        "#   X_train = (X_train).as_matrix#.reshape(-1,1)\n",
        "  \n",
        "  clf = tree.DecisionTreeRegressor()\n",
        "  clf = clf.fit(X_train, y_train)\n",
        "  \n",
        "  predicted = clf.predict(X_test)\n",
        "#   print(predicted)\n",
        "  \n",
        "  for i in range(len(pos)):\n",
        "    ind = pos[i]\n",
        "    y_final[ind] = predicted[i]\n",
        "  \n",
        "  Z = np.concatenate((Z,y_final),axis = 1)\n",
        "#   break\n",
        "  "
      ],
      "execution_count": 0,
      "outputs": [
        {
          "output_type": "stream",
          "text": [
            "/usr/local/lib/python3.6/dist-packages/ipykernel_launcher.py:15: FutureWarning: Method .as_matrix will be removed in a future version. Use .values instead.\n",
            "  from ipykernel import kernelapp as app\n",
            "/usr/local/lib/python3.6/dist-packages/ipykernel_launcher.py:17: FutureWarning: Method .as_matrix will be removed in a future version. Use .values instead.\n",
            "/usr/local/lib/python3.6/dist-packages/ipykernel_launcher.py:15: FutureWarning: Method .as_matrix will be removed in a future version. Use .values instead.\n",
            "  from ipykernel import kernelapp as app\n",
            "/usr/local/lib/python3.6/dist-packages/ipykernel_launcher.py:17: FutureWarning: Method .as_matrix will be removed in a future version. Use .values instead.\n",
            "/usr/local/lib/python3.6/dist-packages/ipykernel_launcher.py:15: FutureWarning: Method .as_matrix will be removed in a future version. Use .values instead.\n",
            "  from ipykernel import kernelapp as app\n",
            "/usr/local/lib/python3.6/dist-packages/ipykernel_launcher.py:17: FutureWarning: Method .as_matrix will be removed in a future version. Use .values instead.\n",
            "/usr/local/lib/python3.6/dist-packages/ipykernel_launcher.py:15: FutureWarning: Method .as_matrix will be removed in a future version. Use .values instead.\n",
            "  from ipykernel import kernelapp as app\n",
            "/usr/local/lib/python3.6/dist-packages/ipykernel_launcher.py:17: FutureWarning: Method .as_matrix will be removed in a future version. Use .values instead.\n",
            "/usr/local/lib/python3.6/dist-packages/ipykernel_launcher.py:15: FutureWarning: Method .as_matrix will be removed in a future version. Use .values instead.\n",
            "  from ipykernel import kernelapp as app\n",
            "/usr/local/lib/python3.6/dist-packages/ipykernel_launcher.py:17: FutureWarning: Method .as_matrix will be removed in a future version. Use .values instead.\n",
            "/usr/local/lib/python3.6/dist-packages/ipykernel_launcher.py:15: FutureWarning: Method .as_matrix will be removed in a future version. Use .values instead.\n",
            "  from ipykernel import kernelapp as app\n",
            "/usr/local/lib/python3.6/dist-packages/ipykernel_launcher.py:17: FutureWarning: Method .as_matrix will be removed in a future version. Use .values instead.\n",
            "/usr/local/lib/python3.6/dist-packages/ipykernel_launcher.py:15: FutureWarning: Method .as_matrix will be removed in a future version. Use .values instead.\n",
            "  from ipykernel import kernelapp as app\n",
            "/usr/local/lib/python3.6/dist-packages/ipykernel_launcher.py:17: FutureWarning: Method .as_matrix will be removed in a future version. Use .values instead.\n",
            "/usr/local/lib/python3.6/dist-packages/ipykernel_launcher.py:15: FutureWarning: Method .as_matrix will be removed in a future version. Use .values instead.\n",
            "  from ipykernel import kernelapp as app\n",
            "/usr/local/lib/python3.6/dist-packages/ipykernel_launcher.py:17: FutureWarning: Method .as_matrix will be removed in a future version. Use .values instead.\n",
            "/usr/local/lib/python3.6/dist-packages/ipykernel_launcher.py:15: FutureWarning: Method .as_matrix will be removed in a future version. Use .values instead.\n",
            "  from ipykernel import kernelapp as app\n",
            "/usr/local/lib/python3.6/dist-packages/ipykernel_launcher.py:17: FutureWarning: Method .as_matrix will be removed in a future version. Use .values instead.\n",
            "/usr/local/lib/python3.6/dist-packages/ipykernel_launcher.py:15: FutureWarning: Method .as_matrix will be removed in a future version. Use .values instead.\n",
            "  from ipykernel import kernelapp as app\n",
            "/usr/local/lib/python3.6/dist-packages/ipykernel_launcher.py:17: FutureWarning: Method .as_matrix will be removed in a future version. Use .values instead.\n",
            "/usr/local/lib/python3.6/dist-packages/ipykernel_launcher.py:15: FutureWarning: Method .as_matrix will be removed in a future version. Use .values instead.\n",
            "  from ipykernel import kernelapp as app\n",
            "/usr/local/lib/python3.6/dist-packages/ipykernel_launcher.py:17: FutureWarning: Method .as_matrix will be removed in a future version. Use .values instead.\n",
            "/usr/local/lib/python3.6/dist-packages/ipykernel_launcher.py:15: FutureWarning: Method .as_matrix will be removed in a future version. Use .values instead.\n",
            "  from ipykernel import kernelapp as app\n",
            "/usr/local/lib/python3.6/dist-packages/ipykernel_launcher.py:17: FutureWarning: Method .as_matrix will be removed in a future version. Use .values instead.\n",
            "/usr/local/lib/python3.6/dist-packages/ipykernel_launcher.py:15: FutureWarning: Method .as_matrix will be removed in a future version. Use .values instead.\n",
            "  from ipykernel import kernelapp as app\n",
            "/usr/local/lib/python3.6/dist-packages/ipykernel_launcher.py:17: FutureWarning: Method .as_matrix will be removed in a future version. Use .values instead.\n",
            "/usr/local/lib/python3.6/dist-packages/ipykernel_launcher.py:15: FutureWarning: Method .as_matrix will be removed in a future version. Use .values instead.\n",
            "  from ipykernel import kernelapp as app\n",
            "/usr/local/lib/python3.6/dist-packages/ipykernel_launcher.py:17: FutureWarning: Method .as_matrix will be removed in a future version. Use .values instead.\n",
            "/usr/local/lib/python3.6/dist-packages/ipykernel_launcher.py:15: FutureWarning: Method .as_matrix will be removed in a future version. Use .values instead.\n",
            "  from ipykernel import kernelapp as app\n",
            "/usr/local/lib/python3.6/dist-packages/ipykernel_launcher.py:17: FutureWarning: Method .as_matrix will be removed in a future version. Use .values instead.\n",
            "/usr/local/lib/python3.6/dist-packages/ipykernel_launcher.py:15: FutureWarning: Method .as_matrix will be removed in a future version. Use .values instead.\n",
            "  from ipykernel import kernelapp as app\n",
            "/usr/local/lib/python3.6/dist-packages/ipykernel_launcher.py:17: FutureWarning: Method .as_matrix will be removed in a future version. Use .values instead.\n",
            "/usr/local/lib/python3.6/dist-packages/ipykernel_launcher.py:15: FutureWarning: Method .as_matrix will be removed in a future version. Use .values instead.\n",
            "  from ipykernel import kernelapp as app\n",
            "/usr/local/lib/python3.6/dist-packages/ipykernel_launcher.py:17: FutureWarning: Method .as_matrix will be removed in a future version. Use .values instead.\n",
            "/usr/local/lib/python3.6/dist-packages/ipykernel_launcher.py:15: FutureWarning: Method .as_matrix will be removed in a future version. Use .values instead.\n",
            "  from ipykernel import kernelapp as app\n",
            "/usr/local/lib/python3.6/dist-packages/ipykernel_launcher.py:17: FutureWarning: Method .as_matrix will be removed in a future version. Use .values instead.\n",
            "/usr/local/lib/python3.6/dist-packages/ipykernel_launcher.py:15: FutureWarning: Method .as_matrix will be removed in a future version. Use .values instead.\n",
            "  from ipykernel import kernelapp as app\n",
            "/usr/local/lib/python3.6/dist-packages/ipykernel_launcher.py:17: FutureWarning: Method .as_matrix will be removed in a future version. Use .values instead.\n",
            "/usr/local/lib/python3.6/dist-packages/ipykernel_launcher.py:15: FutureWarning: Method .as_matrix will be removed in a future version. Use .values instead.\n",
            "  from ipykernel import kernelapp as app\n",
            "/usr/local/lib/python3.6/dist-packages/ipykernel_launcher.py:17: FutureWarning: Method .as_matrix will be removed in a future version. Use .values instead.\n",
            "/usr/local/lib/python3.6/dist-packages/ipykernel_launcher.py:15: FutureWarning: Method .as_matrix will be removed in a future version. Use .values instead.\n",
            "  from ipykernel import kernelapp as app\n",
            "/usr/local/lib/python3.6/dist-packages/ipykernel_launcher.py:17: FutureWarning: Method .as_matrix will be removed in a future version. Use .values instead.\n",
            "/usr/local/lib/python3.6/dist-packages/ipykernel_launcher.py:15: FutureWarning: Method .as_matrix will be removed in a future version. Use .values instead.\n",
            "  from ipykernel import kernelapp as app\n",
            "/usr/local/lib/python3.6/dist-packages/ipykernel_launcher.py:17: FutureWarning: Method .as_matrix will be removed in a future version. Use .values instead.\n",
            "/usr/local/lib/python3.6/dist-packages/ipykernel_launcher.py:15: FutureWarning: Method .as_matrix will be removed in a future version. Use .values instead.\n",
            "  from ipykernel import kernelapp as app\n",
            "/usr/local/lib/python3.6/dist-packages/ipykernel_launcher.py:17: FutureWarning: Method .as_matrix will be removed in a future version. Use .values instead.\n",
            "/usr/local/lib/python3.6/dist-packages/ipykernel_launcher.py:15: FutureWarning: Method .as_matrix will be removed in a future version. Use .values instead.\n",
            "  from ipykernel import kernelapp as app\n",
            "/usr/local/lib/python3.6/dist-packages/ipykernel_launcher.py:17: FutureWarning: Method .as_matrix will be removed in a future version. Use .values instead.\n",
            "/usr/local/lib/python3.6/dist-packages/ipykernel_launcher.py:15: FutureWarning: Method .as_matrix will be removed in a future version. Use .values instead.\n",
            "  from ipykernel import kernelapp as app\n",
            "/usr/local/lib/python3.6/dist-packages/ipykernel_launcher.py:17: FutureWarning: Method .as_matrix will be removed in a future version. Use .values instead.\n",
            "/usr/local/lib/python3.6/dist-packages/ipykernel_launcher.py:15: FutureWarning: Method .as_matrix will be removed in a future version. Use .values instead.\n",
            "  from ipykernel import kernelapp as app\n",
            "/usr/local/lib/python3.6/dist-packages/ipykernel_launcher.py:17: FutureWarning: Method .as_matrix will be removed in a future version. Use .values instead.\n",
            "/usr/local/lib/python3.6/dist-packages/ipykernel_launcher.py:15: FutureWarning: Method .as_matrix will be removed in a future version. Use .values instead.\n",
            "  from ipykernel import kernelapp as app\n",
            "/usr/local/lib/python3.6/dist-packages/ipykernel_launcher.py:17: FutureWarning: Method .as_matrix will be removed in a future version. Use .values instead.\n",
            "/usr/local/lib/python3.6/dist-packages/ipykernel_launcher.py:15: FutureWarning: Method .as_matrix will be removed in a future version. Use .values instead.\n",
            "  from ipykernel import kernelapp as app\n",
            "/usr/local/lib/python3.6/dist-packages/ipykernel_launcher.py:17: FutureWarning: Method .as_matrix will be removed in a future version. Use .values instead.\n",
            "/usr/local/lib/python3.6/dist-packages/ipykernel_launcher.py:15: FutureWarning: Method .as_matrix will be removed in a future version. Use .values instead.\n",
            "  from ipykernel import kernelapp as app\n",
            "/usr/local/lib/python3.6/dist-packages/ipykernel_launcher.py:17: FutureWarning: Method .as_matrix will be removed in a future version. Use .values instead.\n",
            "/usr/local/lib/python3.6/dist-packages/ipykernel_launcher.py:15: FutureWarning: Method .as_matrix will be removed in a future version. Use .values instead.\n",
            "  from ipykernel import kernelapp as app\n",
            "/usr/local/lib/python3.6/dist-packages/ipykernel_launcher.py:17: FutureWarning: Method .as_matrix will be removed in a future version. Use .values instead.\n",
            "/usr/local/lib/python3.6/dist-packages/ipykernel_launcher.py:15: FutureWarning: Method .as_matrix will be removed in a future version. Use .values instead.\n",
            "  from ipykernel import kernelapp as app\n",
            "/usr/local/lib/python3.6/dist-packages/ipykernel_launcher.py:17: FutureWarning: Method .as_matrix will be removed in a future version. Use .values instead.\n",
            "/usr/local/lib/python3.6/dist-packages/ipykernel_launcher.py:15: FutureWarning: Method .as_matrix will be removed in a future version. Use .values instead.\n",
            "  from ipykernel import kernelapp as app\n",
            "/usr/local/lib/python3.6/dist-packages/ipykernel_launcher.py:17: FutureWarning: Method .as_matrix will be removed in a future version. Use .values instead.\n",
            "/usr/local/lib/python3.6/dist-packages/ipykernel_launcher.py:15: FutureWarning: Method .as_matrix will be removed in a future version. Use .values instead.\n",
            "  from ipykernel import kernelapp as app\n",
            "/usr/local/lib/python3.6/dist-packages/ipykernel_launcher.py:17: FutureWarning: Method .as_matrix will be removed in a future version. Use .values instead.\n",
            "/usr/local/lib/python3.6/dist-packages/ipykernel_launcher.py:15: FutureWarning: Method .as_matrix will be removed in a future version. Use .values instead.\n",
            "  from ipykernel import kernelapp as app\n",
            "/usr/local/lib/python3.6/dist-packages/ipykernel_launcher.py:17: FutureWarning: Method .as_matrix will be removed in a future version. Use .values instead.\n",
            "/usr/local/lib/python3.6/dist-packages/ipykernel_launcher.py:15: FutureWarning: Method .as_matrix will be removed in a future version. Use .values instead.\n",
            "  from ipykernel import kernelapp as app\n",
            "/usr/local/lib/python3.6/dist-packages/ipykernel_launcher.py:17: FutureWarning: Method .as_matrix will be removed in a future version. Use .values instead.\n",
            "/usr/local/lib/python3.6/dist-packages/ipykernel_launcher.py:15: FutureWarning: Method .as_matrix will be removed in a future version. Use .values instead.\n",
            "  from ipykernel import kernelapp as app\n",
            "/usr/local/lib/python3.6/dist-packages/ipykernel_launcher.py:17: FutureWarning: Method .as_matrix will be removed in a future version. Use .values instead.\n",
            "/usr/local/lib/python3.6/dist-packages/ipykernel_launcher.py:15: FutureWarning: Method .as_matrix will be removed in a future version. Use .values instead.\n",
            "  from ipykernel import kernelapp as app\n",
            "/usr/local/lib/python3.6/dist-packages/ipykernel_launcher.py:17: FutureWarning: Method .as_matrix will be removed in a future version. Use .values instead.\n",
            "/usr/local/lib/python3.6/dist-packages/ipykernel_launcher.py:15: FutureWarning: Method .as_matrix will be removed in a future version. Use .values instead.\n",
            "  from ipykernel import kernelapp as app\n",
            "/usr/local/lib/python3.6/dist-packages/ipykernel_launcher.py:17: FutureWarning: Method .as_matrix will be removed in a future version. Use .values instead.\n",
            "/usr/local/lib/python3.6/dist-packages/ipykernel_launcher.py:15: FutureWarning: Method .as_matrix will be removed in a future version. Use .values instead.\n",
            "  from ipykernel import kernelapp as app\n",
            "/usr/local/lib/python3.6/dist-packages/ipykernel_launcher.py:17: FutureWarning: Method .as_matrix will be removed in a future version. Use .values instead.\n",
            "/usr/local/lib/python3.6/dist-packages/ipykernel_launcher.py:15: FutureWarning: Method .as_matrix will be removed in a future version. Use .values instead.\n",
            "  from ipykernel import kernelapp as app\n",
            "/usr/local/lib/python3.6/dist-packages/ipykernel_launcher.py:17: FutureWarning: Method .as_matrix will be removed in a future version. Use .values instead.\n",
            "/usr/local/lib/python3.6/dist-packages/ipykernel_launcher.py:15: FutureWarning: Method .as_matrix will be removed in a future version. Use .values instead.\n",
            "  from ipykernel import kernelapp as app\n",
            "/usr/local/lib/python3.6/dist-packages/ipykernel_launcher.py:17: FutureWarning: Method .as_matrix will be removed in a future version. Use .values instead.\n",
            "/usr/local/lib/python3.6/dist-packages/ipykernel_launcher.py:15: FutureWarning: Method .as_matrix will be removed in a future version. Use .values instead.\n",
            "  from ipykernel import kernelapp as app\n",
            "/usr/local/lib/python3.6/dist-packages/ipykernel_launcher.py:17: FutureWarning: Method .as_matrix will be removed in a future version. Use .values instead.\n",
            "/usr/local/lib/python3.6/dist-packages/ipykernel_launcher.py:15: FutureWarning: Method .as_matrix will be removed in a future version. Use .values instead.\n",
            "  from ipykernel import kernelapp as app\n",
            "/usr/local/lib/python3.6/dist-packages/ipykernel_launcher.py:17: FutureWarning: Method .as_matrix will be removed in a future version. Use .values instead.\n",
            "/usr/local/lib/python3.6/dist-packages/ipykernel_launcher.py:15: FutureWarning: Method .as_matrix will be removed in a future version. Use .values instead.\n",
            "  from ipykernel import kernelapp as app\n",
            "/usr/local/lib/python3.6/dist-packages/ipykernel_launcher.py:17: FutureWarning: Method .as_matrix will be removed in a future version. Use .values instead.\n",
            "/usr/local/lib/python3.6/dist-packages/ipykernel_launcher.py:15: FutureWarning: Method .as_matrix will be removed in a future version. Use .values instead.\n",
            "  from ipykernel import kernelapp as app\n",
            "/usr/local/lib/python3.6/dist-packages/ipykernel_launcher.py:17: FutureWarning: Method .as_matrix will be removed in a future version. Use .values instead.\n",
            "/usr/local/lib/python3.6/dist-packages/ipykernel_launcher.py:15: FutureWarning: Method .as_matrix will be removed in a future version. Use .values instead.\n",
            "  from ipykernel import kernelapp as app\n",
            "/usr/local/lib/python3.6/dist-packages/ipykernel_launcher.py:17: FutureWarning: Method .as_matrix will be removed in a future version. Use .values instead.\n",
            "/usr/local/lib/python3.6/dist-packages/ipykernel_launcher.py:15: FutureWarning: Method .as_matrix will be removed in a future version. Use .values instead.\n",
            "  from ipykernel import kernelapp as app\n",
            "/usr/local/lib/python3.6/dist-packages/ipykernel_launcher.py:17: FutureWarning: Method .as_matrix will be removed in a future version. Use .values instead.\n",
            "/usr/local/lib/python3.6/dist-packages/ipykernel_launcher.py:15: FutureWarning: Method .as_matrix will be removed in a future version. Use .values instead.\n",
            "  from ipykernel import kernelapp as app\n",
            "/usr/local/lib/python3.6/dist-packages/ipykernel_launcher.py:17: FutureWarning: Method .as_matrix will be removed in a future version. Use .values instead.\n",
            "/usr/local/lib/python3.6/dist-packages/ipykernel_launcher.py:15: FutureWarning: Method .as_matrix will be removed in a future version. Use .values instead.\n",
            "  from ipykernel import kernelapp as app\n",
            "/usr/local/lib/python3.6/dist-packages/ipykernel_launcher.py:17: FutureWarning: Method .as_matrix will be removed in a future version. Use .values instead.\n",
            "/usr/local/lib/python3.6/dist-packages/ipykernel_launcher.py:15: FutureWarning: Method .as_matrix will be removed in a future version. Use .values instead.\n",
            "  from ipykernel import kernelapp as app\n",
            "/usr/local/lib/python3.6/dist-packages/ipykernel_launcher.py:17: FutureWarning: Method .as_matrix will be removed in a future version. Use .values instead.\n",
            "/usr/local/lib/python3.6/dist-packages/ipykernel_launcher.py:15: FutureWarning: Method .as_matrix will be removed in a future version. Use .values instead.\n",
            "  from ipykernel import kernelapp as app\n",
            "/usr/local/lib/python3.6/dist-packages/ipykernel_launcher.py:17: FutureWarning: Method .as_matrix will be removed in a future version. Use .values instead.\n",
            "/usr/local/lib/python3.6/dist-packages/ipykernel_launcher.py:15: FutureWarning: Method .as_matrix will be removed in a future version. Use .values instead.\n",
            "  from ipykernel import kernelapp as app\n",
            "/usr/local/lib/python3.6/dist-packages/ipykernel_launcher.py:17: FutureWarning: Method .as_matrix will be removed in a future version. Use .values instead.\n",
            "/usr/local/lib/python3.6/dist-packages/ipykernel_launcher.py:15: FutureWarning: Method .as_matrix will be removed in a future version. Use .values instead.\n",
            "  from ipykernel import kernelapp as app\n",
            "/usr/local/lib/python3.6/dist-packages/ipykernel_launcher.py:17: FutureWarning: Method .as_matrix will be removed in a future version. Use .values instead.\n",
            "/usr/local/lib/python3.6/dist-packages/ipykernel_launcher.py:15: FutureWarning: Method .as_matrix will be removed in a future version. Use .values instead.\n",
            "  from ipykernel import kernelapp as app\n",
            "/usr/local/lib/python3.6/dist-packages/ipykernel_launcher.py:17: FutureWarning: Method .as_matrix will be removed in a future version. Use .values instead.\n",
            "/usr/local/lib/python3.6/dist-packages/ipykernel_launcher.py:15: FutureWarning: Method .as_matrix will be removed in a future version. Use .values instead.\n",
            "  from ipykernel import kernelapp as app\n",
            "/usr/local/lib/python3.6/dist-packages/ipykernel_launcher.py:17: FutureWarning: Method .as_matrix will be removed in a future version. Use .values instead.\n",
            "/usr/local/lib/python3.6/dist-packages/ipykernel_launcher.py:15: FutureWarning: Method .as_matrix will be removed in a future version. Use .values instead.\n",
            "  from ipykernel import kernelapp as app\n",
            "/usr/local/lib/python3.6/dist-packages/ipykernel_launcher.py:17: FutureWarning: Method .as_matrix will be removed in a future version. Use .values instead.\n"
          ],
          "name": "stderr"
        }
      ]
    },
    {
      "cell_type": "code",
      "metadata": {
        "id": "tVvK9uA2eMUO",
        "colab_type": "code",
        "outputId": "bf2c2b81-15e8-42e4-a440-bf47845a89aa",
        "colab": {
          "base_uri": "https://localhost:8080/",
          "height": 34
        }
      },
      "source": [
        "Z.shape"
      ],
      "execution_count": 0,
      "outputs": [
        {
          "output_type": "execute_result",
          "data": {
            "text/plain": [
              "(6344, 57)"
            ]
          },
          "metadata": {
            "tags": []
          },
          "execution_count": 14
        }
      ]
    },
    {
      "cell_type": "code",
      "metadata": {
        "id": "1Ul1sD-BHCwn",
        "colab_type": "code",
        "colab": {}
      },
      "source": [
        "for l in range(10):\n",
        "  for col in range(1,Z.shape[1]):\n",
        "    column_name = col_partial[col-1]\n",
        "    pos = indexes_dict[column_name]\n",
        "\n",
        "    X_train = np.delete(Z, col, axis=1)\n",
        "    X_train = np.delete(X_train, pos, axis=0)\n",
        "    X_test = np.delete(Z[pos, :], col, axis=1)\n",
        "    y_train = Z[:, col]\n",
        "    y_train = np.delete(y_train, pos, axis=0)\n",
        "    \n",
        "#     print(X_train.shape)\n",
        "#     print(X_test.shape)\n",
        "#     print(y_train.shape)\n",
        "    \n",
        "    clf = tree.DecisionTreeRegressor()\n",
        "    clf = clf.fit(X_train, y_train)\n",
        "\n",
        "    predicted = clf.predict(X_test)\n",
        "\n",
        "    for i in range(len(pos)):\n",
        "      ind = pos[i]\n",
        "      Z[ind, col] = predicted[i]\n",
        "\n",
        "    \n",
        "  "
      ],
      "execution_count": 0,
      "outputs": []
    },
    {
      "cell_type": "code",
      "metadata": {
        "id": "qyikrHWV3GEC",
        "colab_type": "code",
        "outputId": "c4b85508-ce08-4656-896b-d902074a17e7",
        "colab": {
          "base_uri": "https://localhost:8080/",
          "height": 34
        }
      },
      "source": [
        "Z.shape"
      ],
      "execution_count": 0,
      "outputs": [
        {
          "output_type": "execute_result",
          "data": {
            "text/plain": [
              "(6344, 57)"
            ]
          },
          "metadata": {
            "tags": []
          },
          "execution_count": 16
        }
      ]
    },
    {
      "cell_type": "code",
      "metadata": {
        "id": "f5R7pbO34g_s",
        "colab_type": "code",
        "colab": {}
      },
      "source": [
        "data_imputed = pd.DataFrame(Z, columns = columns_sorted)"
      ],
      "execution_count": 0,
      "outputs": []
    },
    {
      "cell_type": "code",
      "metadata": {
        "id": "r42FltY0HCdN",
        "colab_type": "code",
        "colab": {}
      },
      "source": [
        "from prettytable import PrettyTable\n",
        "x = PrettyTable()\n",
        "\n",
        "x.field_names = [\"Column\", \"N (observed samples)\", \"Mean (observed samples)\", \"SD (observed samples)\", \"Min (observed samples)\" , \"Max (observed samples)\", \"N (imputed samples)\", \"Mean (imputed samples)\", \"SD (imputed samples)\", \"Min (imputed samples)\" , \"Max (imputed samples)\"]"
      ],
      "execution_count": 0,
      "outputs": []
    },
    {
      "cell_type": "code",
      "metadata": {
        "id": "_EFpSZzi4Tn_",
        "colab_type": "code",
        "colab": {}
      },
      "source": [
        "data_num1 = pd.read_csv(\"/content/drive/My Drive/data_num.csv\",encoding='unicode_escape')"
      ],
      "execution_count": 0,
      "outputs": []
    },
    {
      "cell_type": "code",
      "metadata": {
        "id": "N6DaRv3V4Tc-",
        "colab_type": "code",
        "colab": {}
      },
      "source": [
        "for col in data_num1.columns:\n",
        "    data_num1[col] = standardize_col(data_num1[col])"
      ],
      "execution_count": 0,
      "outputs": []
    },
    {
      "cell_type": "code",
      "metadata": {
        "id": "eFc5KwfY5zYj",
        "colab_type": "code",
        "colab": {}
      },
      "source": [
        "data_imputed_copy = pd.DataFrame(np.nan, index = np.arange(6344), columns = data_num1.columns)\n",
        "for col in data_num1.columns:\n",
        "\n",
        "  data_imputed_copy.loc[data_num1[col].isnull(), col] = data_imputed[col]"
      ],
      "execution_count": 0,
      "outputs": []
    },
    {
      "cell_type": "code",
      "metadata": {
        "id": "4EL0ZquC5yvE",
        "colab_type": "code",
        "colab": {}
      },
      "source": [
        "for col in data_num.columns:\n",
        "  obs_mean = data_num1[col].mean()\n",
        "  obs_sd = data_num1[col].std()\n",
        "  obs_min = data_num1[col].min()\n",
        "  obs_max = data_num1[col].max()\n",
        "  \n",
        "  obs_num = data_num1[col].isna().sum()\n",
        "  imp_num = num_samples - obs_num\n",
        "  \n",
        "  imp_mean = data_imputed_copy[col].mean()\n",
        "  imp_sd = data_imputed_copy[col].std()\n",
        "  imp_min = data_imputed_copy[col].min()\n",
        "  imp_max = data_imputed_copy[col].max()\n",
        "  \n",
        "  x.add_row([col, obs_num, obs_mean, obs_sd, obs_min, obs_max, imp_num, imp_mean, imp_sd, imp_min, imp_max])"
      ],
      "execution_count": 0,
      "outputs": []
    },
    {
      "cell_type": "code",
      "metadata": {
        "id": "AED4ahg16oCD",
        "colab_type": "code",
        "outputId": "fb49178f-851b-4452-9589-5744c1231e84",
        "colab": {
          "base_uri": "https://localhost:8080/",
          "height": 1074
        }
      },
      "source": [
        "print(x)"
      ],
      "execution_count": 0,
      "outputs": [
        {
          "output_type": "stream",
          "text": [
            "+------------------------+----------------------+-------------------------+-----------------------+------------------------+------------------------+---------------------+------------------------+----------------------+------------------------+-----------------------+\n",
            "|         Column         | N (observed samples) | Mean (observed samples) | SD (observed samples) | Min (observed samples) | Max (observed samples) | N (imputed samples) | Mean (imputed samples) | SD (imputed samples) | Min (imputed samples)  | Max (imputed samples) |\n",
            "+------------------------+----------------------+-------------------------+-----------------------+------------------------+------------------------+---------------------+------------------------+----------------------+------------------------+-----------------------+\n",
            "|       gambfalDV        |         402          |   0.11557210181262266   |   0.1158473994335187  |          0.0           |          1.0           |         5942        |  0.10960397944755204   | 0.11280157986704933  | 1.6300823004600825e-09 |   0.7348469227699068  |\n",
            "| numparticipants_actual |         6125         |    0.503196347031964    |  0.32949615802271814  |          0.0           |          1.0           |         219         |  0.37263673469388764   |  0.3173859172975475  |          0.0           |          1.0          |\n",
            "|    numparticipants     |         3609         |    0.2761942611875044   |  0.24455779892688834  |          0.0           |          1.0           |         2735        |   0.3070222993241534   | 0.27421779421167297  |          0.0           |          1.0          |\n",
            "|        exprace         |         3399         |    0.3910809281267705   |  0.18743472408526085  |          0.0           |          1.0           |         2945        |   0.3997057958222954   | 0.19094310302987394  |          0.0           |          1.0          |\n",
            "|          age           |          16          |    0.1588179519595533   |  0.12899107007262317  |          0.0           |          1.0           |         6328        |  0.17613636363636365   | 0.14658650451451907  |  0.06818181818181815   |   0.5795454545454546  |\n",
            "|         sunkDV         |          14          |    0.8191943127962086   |   0.2808625494528131  |          0.0           |          1.0           |         6330        |   0.8392857142857143   | 0.23219568291601628  |         0.375          |          1.0          |\n",
            "|       anchoring1       |         982          |    0.4310679644399094   |   0.2534027612671462  |          0.0           |          1.0           |         5362        |   0.4324514552190688   |  0.2633479542124051  |          0.0           |   0.9999021787461093  |\n",
            "|       anchoring2       |         1060         |   0.38262886964664994   |   0.3077669496353871  |          0.0           |          1.0           |         5284        |   0.4033692769539048   |  0.3109827570768181  | 0.00010650720583633572 |   0.9999472981551243  |\n",
            "|       anchoring3       |         717          |   0.48220178718826956   |   0.3451673943768619  |          0.0           |          1.0           |         5627        |   0.4704012220686472   |  0.3493394552524693  | 0.00024384753321991817 |   0.999916960247416   |\n",
            "|       anchoring4       |         735          |    0.3084419368301509   |   0.3189630987377382  |          0.0           |          1.0           |         5609        |  0.31209579402121407   |  0.3252130972667946  | 0.00028330922835889184 |   0.9999849693374484  |\n",
            "|        Ranchori        |         982          |    0.5002806886227604   |   0.287970556328049   |          0.0           |          1.0           |         5362        |   0.4999495980035875   | 0.29762435670591164  |          0.0           |          1.0          |\n",
            "|         RAN001         |         1060         |    0.500807140822334    |   0.2889731356109807  |          0.0           |          1.0           |         5284        |   0.5395470336454985   |  0.3023313534263904  |  0.005887380115848448  |   0.9968663944544677  |\n",
            "|         RAN002         |         717          |    0.5010246814577267   |   0.2893754307937909  |          0.0           |          1.0           |         5627        |  0.49145825387717895   |  0.2949571848943579  | 0.0016929519736255901  |   0.9971487124654725  |\n",
            "|         RAN003         |         735          |   0.49986572374899374   |   0.2896065105958244  |          0.0           |          1.0           |         5609        |  0.49716996815734626   | 0.29858029169304373  |  0.016918807626891054  |   0.9977620624832154  |\n",
            "|         Ranch1         |         982          |    0.5002806886227604   |   0.287970556328049   |          0.0           |          1.0           |         5362        |   0.4999375929912089   |  0.2976322749827097  |          0.0           |          1.0          |\n",
            "|         Ranch2         |         1060         |    0.500807140822334    |   0.2889731356109807  |          0.0           |          1.0           |         5284        |   0.5395461378177268   |  0.302332953362344   |  0.005887380115848448  |   0.9968663944544677  |\n",
            "|         Ranch3         |         717          |    0.5010246814577267   |   0.2893754307937909  |          0.0           |          1.0           |         5627        |   0.4914551470872397   |  0.2949602111354844  | 0.0016929519736255901  |   0.9971487124654728  |\n",
            "|         Ranch4         |         735          |   0.49986572374899374   |   0.2896065105958244  |          0.0           |          1.0           |         5609        |  0.49716704513691623   | 0.29858296574193205  |  0.016918807626891054  |   0.9977620624832154  |\n",
            "|         flagdv         |          3           |    0.3560728837766818   |  0.17198851513838434  |          0.0           |          1.0           |         6341        |   0.3120567375886525   |  0.1539186837887284  |   0.2127659574468085   |  0.48936170212765956  |\n",
            "|        Sysjust         |          11          |   0.43116194711990147   |  0.16512448390625156  |          0.0           |          1.0           |         6333        |   0.3977272727272727   | 0.13612141787404508  |         0.1875         |         0.625         |\n",
            "|       Imagineddv       |          8           |    0.4634775489267677   |   0.2427146708765413  |          0.0           |          1.0           |         6336        |        0.28125         | 0.22222997258310076  |          0.0           |         0.625         |\n",
            "|       IATexpart        |          5           |    0.7962501971909729   |  0.19335497246726974  |          0.0           |          1.0           |         6339        |   0.6333333332800001   |  0.2718251071573616  |      0.3666666666      |      0.9666666666     |\n",
            "|       IATexpmath       |          3           |    0.5102970088838968   |   0.2811504788486677  |          0.0           |          1.0           |         6341        |   0.3333333333333333   | 0.23333333334285705  |      0.1666666666      |   0.5999999999999999  |\n",
            "|     IATexp.overall     |          3           |    0.6241611064637773   |  0.17981620868862241  |          0.0           |          1.0           |         6341        |   0.7142857143046988   | 0.11978575658747415  |   0.6146179402913876   |   0.8471760796779289  |\n",
            "|      anchoring1a       |         3744         |    0.3066937509325965   |   0.1974089792440611  |          0.0           |          1.0           |         2600        |   0.5330750131106062   | 0.25728600368399135  |          0.0           |          1.0          |\n",
            "|      anchoring1b       |         3582         |    0.5490521804979579   |  0.24411847180877932  |          0.0           |          1.0           |         2762        |  0.32870535930375194   | 0.22507896887529055  |          0.0           |   0.9999010251767207  |\n",
            "|      anchoring2a       |         3758         |   0.19286409784324515   |  0.22438075651955433  |          0.0           |          1.0           |         2586        |   0.5863986195719609   |  0.3077102022020814  | 0.00011828691138749638 |          1.0          |\n",
            "|      anchoring2b       |         3646         |    0.5797044496909342   |   0.255759156158091   |          0.0           |          1.0           |         2698        |   0.2347868021247641   |  0.2624380353172797  |          0.0           |   0.9999468911642433  |\n",
            "|      anchoring3a       |         3481         |   0.22902996707629594   |  0.24109524659575182  |          0.0           |          1.0           |         2863        |   0.6985309754249626   |  0.2754448694422457  | 0.00024667736458987424 |          1.0          |\n",
            "|      anchoring3b       |         3580         |    0.7446328130264549   |  0.21597538413210707  |          0.0           |          1.0           |         2764        |  0.26830416147609293   |  0.2843200599569917  |          0.0           |   0.9999161292136001  |\n",
            "|      anchoring4a       |         3668         |   0.06479526816999746   |  0.12772358544644938  |          0.0           |          1.0           |         2676        |   0.5049546713499962   |  0.3048903812061723  | 0.00029134547591124334 |          1.0          |\n",
            "|      anchoring4b       |         3411         |    0.5329299154208921   |  0.27404615406372346  |          0.0           |          1.0           |         2933        |  0.11568071102138497   | 0.21249509825663693  | 0.0003182702139176808  |   0.9999849636119409  |\n",
            "|       d_donotuse       |         454          |    0.4991530468074129   |  0.20862789824000513  |          0.0           |          1.0           |         5890        |   0.4972445150188076   | 0.22841741904828453  |  0.028972417144637847  |   0.9624335009670512  |\n",
            "|    gamblerfallacya     |         3367         |   0.13825774535737756   |   0.1367329991105127  |          0.0           |          1.0           |         2977        |  0.09478117345203219   | 0.08807697148545077  | 3.079044345313489e-09  |   0.9128709288904338  |\n",
            "|    gamblerfallacyb     |         3379         |    0.0927946445334509   |  0.08421765890033316  |          0.0           |          1.0           |         2965        |   0.1347694524032817   |  0.134352442914022   |          0.0           |          1.0          |\n",
            "|       omdimc3rt        |          1           |   0.012035526764735655  |  0.016923366164752915 |          0.0           |          1.0           |         6343        |  0.012381281047175476  |         nan          |  0.012381281047175476  |  0.012381281047175476 |\n",
            "|       omdimc3trt       |          1           |   0.012054887955416007  |  0.016928233183628398 |          0.0           |          1.0           |         6343        |  0.01237054369587965   |         nan          |  0.01237054369587965   |  0.01237054369587965  |\n",
            "|  previous_session_id   |          0           |   0.04880697183995355   |   0.1301492419695784  |          0.0           |          1.0           |         6344        |          nan           |         nan          |          nan           |          nan          |\n",
            "|     anchoring1akm      |         5857         |  0.0031771643689232068  |  0.04533014372742474  |          0.0           |          1.0           |         487         | 0.0020736301048300413  |  0.0292500415454928  |  5.99800153068999e-07  |          1.0          |\n",
            "|     anchoring1bkm      |         5896         |   0.010737757454004857  |  0.04933803453613162  |          0.0           |          1.0           |         448         |  0.01281501440595131   | 0.02949559211022309  | 6.250007812509766e-06  |          1.0          |\n",
            "|    anchoring3ameter    |         5836         |  0.0019712144596396282  |   0.0443677103760895  |          0.0           |          1.0           |         508         |  0.004800530066880064  | 0.06910557092172587  | 7.232957144593052e-07  |          1.0          |\n",
            "|    anchoring3bmeter    |         5908         |  0.0049316197805405046  |  0.05774398660193044  |          0.0           |          1.0           |         436         |  0.019306579193525603  | 0.12459740830668162  | 4.6154519057196685e-07 |          1.0          |\n",
            "|      meanlatency       |          44          |    0.1870957431884891   |   0.0768300408784532  |          0.0           |          1.0           |         6300        |   0.2015618885949932   |  0.1449251944925014  |  0.025811385691488112  |          1.0          |\n",
            "|       meanerror        |          44          |   0.10273424933888789   |  0.10964091113099929  |          0.0           |          1.0           |         6300        |  0.13221515309921833   | 0.19955356885040987  |          0.0           |          1.0          |\n",
            "|    block2_meanerror    |          89          |   0.08854827249160907   |   0.1287805783907365  |          0.0           |          1.0           |         6255        |   0.341947565539326    | 0.41636627322836384  |          0.0           |          1.0          |\n",
            "|    block3_meanerror    |          97          |    0.0910090279979204   |  0.11470941727498132  |          0.0           |          1.0           |         6247        |  0.30489069990339834   |  0.3727527104708341  |          0.0           |          1.0          |\n",
            "|    block5_meanerror    |          96          |   0.11542982643182231   |  0.14685740756177199  |          0.0           |          1.0           |         6248        |  0.30654761905208333   |  0.3765841346331316  |          0.0           |          1.0          |\n",
            "|    block6_meanerror    |         100          |    0.1081866157719415   |  0.13033879684967323  |          0.0           |          1.0           |         6244        |  0.30252698424422375   |  0.3828921534036269  |          0.0           |          1.0          |\n",
            "|         lat11          |         103          |   0.21545628642824366   |  0.11429735190381148  |          0.0           |          1.0           |         6241        |   0.1479726460165048   | 0.14696934196609612  |         0.003          |   0.8945925926666667  |\n",
            "|         lat12          |          82          |   0.18989076671094884   |   0.0997727900854569  |          0.0           |          1.0           |         6262        |  0.15286810803614617   | 0.15216691709475688  | 0.00021193924409833553 |          1.0          |\n",
            "|         lat21          |         110          |    0.149693618348879    |  0.07561620906365167  |          0.0           |          1.0           |         6234        |  0.12025403724083181   | 0.12354146234399847  | 0.0027307482250136534  |   0.8751423381273135  |\n",
            "|         lat22          |          87          |   0.20139368875292143   |   0.0897297454841873  |          0.0           |          1.0           |         6257        |   0.1436436409968653   | 0.12534583501649096  |          0.0           |   0.6393329617787686  |\n",
            "|          sd1           |          94          |    0.200153894371659    |   0.1284399584509177  |          0.0           |          1.0           |         6250        |   0.1341772442429313   | 0.14992918546613504  |          0.0           |   0.7095098937810013  |\n",
            "|          sd2           |          86          |    0.1853415441172954   |   0.1068797468081778  |          0.0           |          1.0           |         6258        |   0.1334509010367465   | 0.15101457733789247  |  0.00721625678428639   |   0.7787678531362715  |\n",
            "|         d_art1         |         124          |    0.6103549735824819   |   0.140323257808418   |          0.0           |          1.0           |         6220        |   0.531854188546901    | 0.18653269920237042  |   0.1270175984213306   |   0.8778864443759287  |\n",
            "|         d_art2         |         131          |   0.46571961970624937   |  0.11675598945301328  |          0.0           |          1.0           |         6213        |   0.3713682411577238   | 0.17404081419904094  |  0.05880698969426743   |   0.9193480885141151  |\n",
            "|         d_art          |         159          |    0.5760822704846797   |   0.1511471654489762  |          0.0           |          1.0           |         6185        |  0.46305941466440487   | 0.20510918186818725  |          0.0           |   0.8851227445237783  |\n",
            "+------------------------+----------------------+-------------------------+-----------------------+------------------------+------------------------+---------------------+------------------------+----------------------+------------------------+-----------------------+\n"
          ],
          "name": "stdout"
        }
      ]
    },
    {
      "cell_type": "code",
      "metadata": {
        "id": "3XZbbYimjuK_",
        "colab_type": "code",
        "colab": {}
      },
      "source": [
        "data_num1 = pd.read_csv(\"/content/drive/My Drive/data_num.csv\",encoding='unicode_escape')"
      ],
      "execution_count": 0,
      "outputs": []
    },
    {
      "cell_type": "code",
      "metadata": {
        "id": "B_18m2_1R4Sq",
        "colab_type": "code",
        "colab": {}
      },
      "source": [
        "import random\n",
        "from math import floor"
      ],
      "execution_count": 0,
      "outputs": []
    },
    {
      "cell_type": "code",
      "metadata": {
        "id": "179BUe-X-5o9",
        "colab_type": "code",
        "outputId": "725c3ca5-c8f3-4c40-876d-4fbe9f01c07e",
        "colab": {
          "base_uri": "https://localhost:8080/",
          "height": 221
        }
      },
      "source": [
        "cnt = 1\n",
        "for col in data_num_ordered.columns:\n",
        "  print(col)\n",
        "#   print(data_num_ordered[col].notnull())\n",
        "  obs_ind = list(np.where(data_num_ordered[col].notnull())[0])\n",
        "  print(len(obs_ind))\n",
        "  \n",
        "  x_values = []\n",
        "  \n",
        "  data_copy = data_num_ordered\n",
        "  for i in range(floor(0.1*len(obs_ind))):\n",
        "    leave_ind = (random.choice(obs_ind))\n",
        "    x_values.append(data_copy[col][leave_ind])\n",
        "    data_copy[col][leave_ind] = np.nan\n",
        "  \n",
        "    \n",
        "  \n",
        "  \n",
        "  \n",
        "  \n",
        "  cnt += 1\n",
        "  if cnt == 2:\n",
        "    break"
      ],
      "execution_count": 0,
      "outputs": [
        {
          "output_type": "stream",
          "text": [
            "previous_session_id\n",
            "6344\n"
          ],
          "name": "stdout"
        },
        {
          "output_type": "stream",
          "text": [
            "/usr/local/lib/python3.6/dist-packages/ipykernel_launcher.py:14: SettingWithCopyWarning: \n",
            "A value is trying to be set on a copy of a slice from a DataFrame\n",
            "\n",
            "See the caveats in the documentation: http://pandas.pydata.org/pandas-docs/stable/indexing.html#indexing-view-versus-copy\n",
            "  \n",
            "/usr/local/lib/python3.6/dist-packages/pandas/core/indexing.py:190: SettingWithCopyWarning: \n",
            "A value is trying to be set on a copy of a slice from a DataFrame\n",
            "\n",
            "See the caveats in the documentation: http://pandas.pydata.org/pandas-docs/stable/indexing.html#indexing-view-versus-copy\n",
            "  self._setitem_with_indexer(indexer, value)\n"
          ],
          "name": "stderr"
        }
      ]
    },
    {
      "cell_type": "code",
      "metadata": {
        "id": "nkNYvhTSmtr2",
        "colab_type": "code",
        "outputId": "1cc8962e-aa91-4342-e662-40dfc6bf2e9f",
        "colab": {
          "base_uri": "https://localhost:8080/",
          "height": 34
        }
      },
      "source": [
        "type(obs_ind)"
      ],
      "execution_count": 0,
      "outputs": [
        {
          "output_type": "execute_result",
          "data": {
            "text/plain": [
              "list"
            ]
          },
          "metadata": {
            "tags": []
          },
          "execution_count": 14
        }
      ]
    },
    {
      "cell_type": "code",
      "metadata": {
        "id": "bMIwJIEFc0A4",
        "colab_type": "code",
        "outputId": "5a405359-f341-4529-b366-08a5bc718aa7",
        "colab": {
          "base_uri": "https://localhost:8080/",
          "height": 34
        }
      },
      "source": [
        "random.sample([1,2,3,4,5], 3)"
      ],
      "execution_count": 0,
      "outputs": [
        {
          "output_type": "execute_result",
          "data": {
            "text/plain": [
              "[2, 4, 1]"
            ]
          },
          "metadata": {
            "tags": []
          },
          "execution_count": 12
        }
      ]
    },
    {
      "cell_type": "code",
      "metadata": {
        "id": "15SWjaSyRdSr",
        "colab_type": "code",
        "colab": {}
      },
      "source": [
        "obs_ind"
      ],
      "execution_count": 0,
      "outputs": []
    },
    {
      "cell_type": "code",
      "metadata": {
        "id": "j1arYk_v-5aX",
        "colab_type": "code",
        "outputId": "4b93df25-bb46-4406-e501-352c92c3ac38",
        "colab": {
          "base_uri": "https://localhost:8080/",
          "height": 1003
        }
      },
      "source": [
        "data_num_ordered.isna().sum()"
      ],
      "execution_count": 0,
      "outputs": [
        {
          "output_type": "execute_result",
          "data": {
            "text/plain": [
              "previous_session_id          0\n",
              "omdimc3trt                   1\n",
              "omdimc3rt                    1\n",
              "IATexpmath                   3\n",
              "flagdv                       3\n",
              "IATexp.overall               3\n",
              "IATexpart                    5\n",
              "Imagineddv                   8\n",
              "Sysjust                     11\n",
              "sunkDV                      14\n",
              "age                         16\n",
              "meanerror                   44\n",
              "meanlatency                 44\n",
              "lat12                       82\n",
              "sd2                         86\n",
              "lat22                       87\n",
              "block2_meanerror            89\n",
              "sd1                         94\n",
              "block5_meanerror            96\n",
              "block3_meanerror            97\n",
              "block6_meanerror           100\n",
              "lat11                      103\n",
              "lat21                      110\n",
              "d_art1                     124\n",
              "d_art2                     131\n",
              "d_art                      159\n",
              "gambfalDV                  402\n",
              "d_donotuse                 454\n",
              "Ranch3                     717\n",
              "RAN002                     717\n",
              "anchoring3                 717\n",
              "RAN003                     735\n",
              "anchoring4                 735\n",
              "Ranch4                     735\n",
              "Ranch1                     982\n",
              "anchoring1                 982\n",
              "Ranchori                   982\n",
              "RAN001                    1060\n",
              "anchoring2                1060\n",
              "Ranch2                    1060\n",
              "gamblerfallacya           3367\n",
              "gamblerfallacyb           3379\n",
              "exprace                   3399\n",
              "anchoring4b               3411\n",
              "anchoring3a               3481\n",
              "anchoring3b               3580\n",
              "anchoring1b               3582\n",
              "numparticipants           3609\n",
              "anchoring2b               3646\n",
              "anchoring4a               3668\n",
              "anchoring1a               3744\n",
              "anchoring2a               3758\n",
              "anchoring3ameter          5836\n",
              "anchoring1akm             5857\n",
              "anchoring1bkm             5896\n",
              "anchoring3bmeter          5908\n",
              "numparticipants_actual    6125\n",
              "dtype: int64"
            ]
          },
          "metadata": {
            "tags": []
          },
          "execution_count": 18
        }
      ]
    },
    {
      "cell_type": "code",
      "metadata": {
        "id": "co13efIYCWjw",
        "colab_type": "code",
        "colab": {}
      },
      "source": [
        "from sklearn.preprocessing import Imputer\n",
        "from sklearn.linear_model import LinearRegression\n",
        "from sklearn.model_selection import train_test_split\n",
        "import numpy as np\n",
        "\n",
        "def _get_mask(X, value_to_mask):\n",
        "        if value_to_mask == \"NaN\":\n",
        "            # print(np.isnan(X))\n",
        "            return np.isnan(X)\n",
        "        else:\n",
        "            return X == value_to_mask\n",
        "\n",
        "class MiceImputer(object):\n",
        "\n",
        "    def __init__(self, missing_values=\"NaN\", strategy=\"mean\", axis=0, verbose=0, copy=True):\n",
        "        self.missing_values = missing_values\n",
        "        self.strategy = strategy\n",
        "        self.axis = axis\n",
        "        self.verbose = verbose\n",
        "        self.copy = copy\n",
        "        self.imp = Imputer(missing_values=self.missing_values, strategy=self.strategy, axis= self.axis, verbose=self.verbose, copy=self.copy)\n",
        "        self.mask2 = np.zeros([1])\n",
        "\n",
        "    def _seed_values(self, X):\n",
        "        self.imp.fit(X)\n",
        "        return self.imp.transform(X)\n",
        "\n",
        "\n",
        "    def _process(self, X, column, model_class):\n",
        "        # Remove values that are in mask\n",
        "        # mask = np.array(_get_mask(X,self.missing_values)[:, column].T)\n",
        "#         print()\n",
        "        mask = _get_mask(X,self.missing_values)\n",
        "        mask_indices = np.where(mask[:,column]==True)\n",
        "        \n",
        "        X_temp = np.array(X)\n",
        "        index = np.where(mask==True)\n",
        "        X_temp[index[0],index[1]] = 0\n",
        "        \n",
        "#         print(\"mask\")\n",
        "#         print(mask)\n",
        "#         print(mask_indices)\n",
        "        X_data = np.delete(X_temp, mask_indices[0], 0)\n",
        "#         print(\"Xdata\")\n",
        "#         print(X_data)\n",
        "\n",
        "        # Instantiate the model\n",
        "        model = model_class()\n",
        "\n",
        "        # Slice out the column to predict and delete the column.\n",
        "        y_data = X_data[:, column]\n",
        "        X_data = np.delete(X_data, column, 1)\n",
        "\n",
        "        # Split training and test data\n",
        "        X_train, X_test, y_train, y_test = train_test_split(X_data, y_data, test_size=0.33, random_state=42)\n",
        "\n",
        "        # Fit the model\n",
        "        model.fit(X_train, y_train)\n",
        "\n",
        "        # Score the model\n",
        "        scores = model.score(X_test, y_test)\n",
        "\n",
        "        # Predict missing vars\n",
        "        X_predict = np.delete(X_temp, column, 1)\n",
        "        y = model.predict(X_predict)\n",
        "\n",
        "        # Replace values in X with their predictions\n",
        "        predict_indices = np.array(np.where(self.mask2[:,column]==True))\n",
        "        X[predict_indices,column] = y[predict_indices]\n",
        "\n",
        "        return X\n",
        "\n",
        "    def transform(self, X, model_class=LinearRegression, iterations=10):\n",
        "        X = np.matrix(X)\n",
        "        # print('len',len(X.T))\n",
        "#         print(X)\n",
        "        self.mask2 = _get_mask(X, self.missing_values)\n",
        "#         print(self.mask2)\n",
        "        seeded = self._seed_values(X)\n",
        "#         print(seeded)\n",
        "\n",
        "        for i in range(iterations):\n",
        "            for c in range(len(X.T)):\n",
        "                X = self._process(seeded, c, model_class)\n",
        "\n",
        "        # Return X matrix with imputed values\n",
        "        return X"
      ],
      "execution_count": 0,
      "outputs": []
    }
  ]
}